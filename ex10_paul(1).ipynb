{
 "cells": [
  {
   "cell_type": "code",
   "execution_count": 37,
   "id": "c4d4aa12-b058-4473-b62a-972129175ba7",
   "metadata": {
    "tags": []
   },
   "outputs": [],
   "source": [
    "import numpy as np\n",
    "from numpy import random\n",
    "import math\n",
    "import matplotlib.pyplot as plt\n",
    "from tqdm import tqdm\n"
   ]
  },
  {
   "cell_type": "markdown",
   "id": "9dd11a73-4c0a-4ca3-ab8a-c019f21747ff",
   "metadata": {},
   "source": [
    "# Nuclear bombs"
   ]
  },
  {
   "cell_type": "markdown",
   "id": "589cf20b-6310-4624-9f21-d781e0c0b8de",
   "metadata": {},
   "source": [
    "On of the earliest recorded uses of a Monte Carlo approach was during the Manhattan Project. To get an explosion, a neutron in fissionable material needs to create on averge more than 1 neutron. It is random if a neutron will collide some atom as well if the collision will result in fission (releasing more neutrons), absorbtion or scattering.\n",
    "\n",
    "It is cruial to know when the material will be supercritial (more than 1 neutron on average). Before the detonation you need it subcritial and then need to bring it into superciritial state."
   ]
  },
  {
   "cell_type": "markdown",
   "id": "b9b0a398-b729-4d39-bcf8-4237f6e5ed14",
   "metadata": {},
   "source": [
    "We will use a simplified model. For a more authentic treatment see https://permalink.lanl.gov/object/tr?what=info:lanl-repo/lareport/LA-00551-MS.\n",
    "\n",
    "We model the material as a sphere with radius $R$. Neutrons get emittet by natural decay uniformly in the sphere and will have a uniform random direction. We assume the velocity to be the same for all neutrons.\n",
    "\n",
    "The probability that the neutron travels a length $d$ without colliding with an atom is given by $\\exp(-d\\lambda)$ where lambda is a propertiy of the material.\n",
    "\n",
    "The neutron can either leave the sphere without a collision or collide with some atom inside the sphere. If the neutron does collide inside the sphere there are 3 possibilties:\n",
    "- The neutron gets absorbed\n",
    "- It gets scatterd (deflected in a different direction)\n",
    "- It splits the atom and either two or four neutrons get released, each in a random direction\n",
    "\n",
    "You can model scattering as a special case of fission, where only one neutron is released and absorbtion as a case of fission with no releases. We will have a probability vector $(f_0, f_1, f_2, f_4)$ desribing all four of the possibilities. We will fix all four of them to have 25%."
   ]
  },
  {
   "cell_type": "markdown",
   "id": "bcae42cf-48df-4df6-8ddf-4474a9c19d28",
   "metadata": {},
   "source": [
    "Your task is determine at which radius the sphere would get supercritical. For this start with 1000 naturally emitted neutrons and simulate the system for up to 100 collisions (for each neutron) and decide if it is supercritical."
   ]
  },
  {
   "cell_type": "code",
   "execution_count": 12,
   "id": "f245a455-4ad2-4602-8850-f144a1219282",
   "metadata": {
    "tags": []
   },
   "outputs": [],
   "source": [
    "# Calculates the length of a ray starting in `start` and going in a unit direction `dir` until it intersects a sphere with radius `r` centered in the origin.\n",
    "\n",
    "# R: radius\n",
    "# start: start of the ray\n",
    "# dir: direction of the ray\n",
    "# origin: [0, 0, 0]\n",
    "\n",
    "def length_inside_sphere(R : float, start: np.array, dir: np.array) -> float:\n",
    "    rcos = np.dot(start, dir)\n",
    "    r = np.linalg.norm(start)\n",
    "    rsin_squared = r**2 - rcos**2\n",
    "    return math.sqrt(R**2 - rsin_squared) - rcos"
   ]
  },
  {
   "cell_type": "markdown",
   "id": "23f3ae1a-7d56-400d-88ac-3b5080f21dfa",
   "metadata": {},
   "source": [
    "Implement the following functions:"
   ]
  },
  {
   "cell_type": "code",
   "execution_count": 13,
   "id": "7cef3ff5-dc36-44f2-83e7-0dbaee0c90d1",
   "metadata": {
    "tags": []
   },
   "outputs": [],
   "source": [
    "# Returns a unit vector in a random direction\n",
    "def random_direction():\n",
    "    # Sample random values for each dimension\n",
    "    x, y, z = np.random.uniform(-1, 1, 3)\n",
    "\n",
    "    # Create a vector from the sampled values\n",
    "    vector = np.array([x, y, z])\n",
    "\n",
    "    # Calculate the length of the vector\n",
    "    length = np.linalg.norm(vector)\n",
    "\n",
    "    # Ensure the vector is not a zero vector\n",
    "    while length == 0:\n",
    "        x, y, z = np.random.uniform(-1, 1, 3)\n",
    "        vector = np.array([x, y, z])\n",
    "        length = np.linalg.norm(vector)\n",
    "\n",
    "    # Normalize the vector to obtain a unit vector\n",
    "    unit_vector = vector / length\n",
    "\n",
    "    return unit_vector"
   ]
  },
  {
   "cell_type": "code",
   "execution_count": 14,
   "id": "89120601-ac52-43da-bb0e-9f74e6e01f3f",
   "metadata": {
    "tags": []
   },
   "outputs": [
    {
     "name": "stdout",
     "output_type": "stream",
     "text": [
      "[-0.9903068   0.05192099 -0.12882797]\n",
      "0.9999999999999999\n"
     ]
    }
   ],
   "source": [
    "# code snippet just to check that the random direction has norm = 1\n",
    "test_dir = random_direction()\n",
    "print(test_dir)\n",
    "print((np.linalg.norm(test_dir)))"
   ]
  },
  {
   "cell_type": "code",
   "execution_count": 15,
   "id": "8f85aa07-2383-4c12-924c-8125f5845cc7",
   "metadata": {
    "tags": []
   },
   "outputs": [],
   "source": [
    "# Samples the length until the first colission\n",
    "\n",
    "# lam: lambda (rate of collision)\n",
    "\n",
    "def length_until_collision(lam: float) -> float:\n",
    "    # Note the probability transformation: F_d(D)~ U[0,1]\n",
    "    u = np.random.uniform()\n",
    "\n",
    "    # Calculate the length until the first collision using the inverse transform method\n",
    "    length = -math.log(1 - u) / lam #implement minus otherwise length is negative\n",
    "    return(length)\n",
    "\n",
    "    # The probability that the neutron travels a length d without colliding with an atom is given by p(d) = exp(-d*lambda)\n",
    "    # This means the probability that the neutron collides during the travel is given by F(d) = 1-exp(-d*lambda)\n",
    "    # This is just the cdf of the exponential function\n",
    "    # We want the 'd', hence solved it: d = log(1 - F(d))/lambda"
   ]
  },
  {
   "cell_type": "code",
   "execution_count": 16,
   "id": "e6141064-2d08-4645-9fd3-ef3fd86473be",
   "metadata": {
    "tags": []
   },
   "outputs": [
    {
     "name": "stdout",
     "output_type": "stream",
     "text": [
      "1.8892631123833294\n",
      "0.9999999999999999\n"
     ]
    }
   ],
   "source": [
    "# code snippet just to check that the random direction has norm = 1\n",
    "test_len = length_until_collision(0.1)\n",
    "print(test_len)\n",
    "print((np.linalg.norm(test_dir)))"
   ]
  },
  {
   "cell_type": "code",
   "execution_count": 17,
   "id": "fa519769-0a97-40c5-965e-778cf8450d82",
   "metadata": {
    "tags": []
   },
   "outputs": [],
   "source": [
    "#Takes the Radius and lambda, a list of start position and a list of directions for neutrons. The function simulates the trajetory of each neutron and gives a list of new position and directions.\n",
    "#The sizes may change because of absortion and fission\n",
    "def simulate_neutrons(R: float, lam: float, start: list[np.array], dir: list[np.array]) -> (list[np.array], list[np.array]):\n",
    "    new_positions = []\n",
    "    new_directions = []\n",
    "\n",
    "    for i in range(len(start)):\n",
    "        # For every neutron (starting position and direction)...\n",
    "        position = start[i]\n",
    "        direction = dir[i]\n",
    "        \n",
    "        length_to_collision = length_until_collision(lam)\n",
    "\n",
    "        # If the collision happenend outside the sphere the neutron is gone\n",
    "        if length_to_collision > length_inside_sphere(R, position, direction):\n",
    "            #print(\"iteration: \", i, \" plop!plop!\")\n",
    "            continue # jumps back up to for loop starting the next iteration\n",
    "\n",
    "        # ...if it reacted inside the sphere, calculate the position of collision\n",
    "        position += length_to_collision * direction\n",
    "\n",
    "        # Simulate fission or absorption\n",
    "        fission_probabilities = [0.25, 0.25, 0.25, 0.25]\n",
    "        num_neutrons = np.random.choice([0, 1, 2, 4], p=fission_probabilities)\n",
    "\n",
    "        for _ in range(num_neutrons):\n",
    "            new_directions.append(random_direction())\n",
    "            new_positions.append(position.copy())\n",
    "    return new_positions, new_directions"
   ]
  },
  {
   "cell_type": "code",
   "execution_count": 18,
   "id": "be6d0664-1fa9-4514-af67-ff71b3817de9",
   "metadata": {
    "tags": []
   },
   "outputs": [
    {
     "name": "stdout",
     "output_type": "stream",
     "text": [
      "New Positions: [array([2.17343375, 1.42040053, 6.39038737])]\n",
      "New Directions: [array([-0.7785995 ,  0.02525143,  0.62701291])]\n"
     ]
    }
   ],
   "source": [
    "### Just a test cell please ignore!!!### (but dont delete)\n",
    "\n",
    "R = 13.5  # Example radius\n",
    "lam = 0.1  # Example lambda\n",
    "\n",
    "# Example starting position and direction\n",
    "start_position = np.array([0.0, 0.0, 0.0])\n",
    "start_direction = random_direction()\n",
    "\n",
    "# Wrap the individual NumPy arrays in lists\n",
    "start_position_list = [start_position]\n",
    "start_direction_list = [start_direction]\n",
    "\n",
    "# Run the simulation for one neutron\n",
    "new_positions, new_directions = simulate_neutrons(R, lam, start_position_list, start_direction_list)\n",
    "\n",
    "# Print the results for inspection\n",
    "print(\"New Positions:\", new_positions)\n",
    "print(\"New Directions:\", new_directions)\n",
    "\n",
    "# Build on obtained positions and directions\n",
    "new_positions, new_directions = simulate_neutrons(R, lam, new_positions, new_directions)"
   ]
  },
  {
   "cell_type": "code",
   "execution_count": 19,
   "id": "88c761b7-44e9-4fed-8b32-e03db0082488",
   "metadata": {
    "tags": []
   },
   "outputs": [],
   "source": [
    "def check_single_element(vector, name):\n",
    "    length = len(vector)\n",
    "    if length != 1:\n",
    "        raise ValueError(f\"The {name} vector must have only 1 element!\")\n",
    "\n",
    "#Simulate a single neutron over N collision epochs. It will return the number of neutrons after N epochs. You can stop the simulation if you have more than 1000 neutrons and return 1000\n",
    "def simulate_neutron_over_N_collisions(R: float, lam: float, start: np.array, dir: np.array, N: int) -> int:\n",
    "    # Check if start and dir vectors have length 1\n",
    "    # check_single_element(start, \"start\")\n",
    "    # check_single_element(dir, \"dir\")\n",
    "\n",
    "    for epoch in range(N):\n",
    "        # Use temporary variables to store the updated positions and directions\n",
    "        temp_start, temp_dir = simulate_neutrons(R, lam, start, dir)\n",
    "\n",
    "        # Check if the system is supercritical (more than 1000 neutrons)\n",
    "        if len(temp_start) >= 1000:\n",
    "            return 1000\n",
    "\n",
    "        if len(temp_start) == 0:\n",
    "            return 0\n",
    "\n",
    "        # Update the original start and dir vectors\n",
    "        start, dir = temp_start, temp_dir\n",
    "\n",
    "    \n",
    "    return len(start)"
   ]
  },
  {
   "cell_type": "code",
   "execution_count": 20,
   "id": "71d95518-d16a-4dad-acb0-a338a19f3945",
   "metadata": {
    "tags": []
   },
   "outputs": [
    {
     "name": "stdout",
     "output_type": "stream",
     "text": [
      "Number of neutrons after N epochs: 0\n"
     ]
    }
   ],
   "source": [
    "R = 13.5\n",
    "\n",
    "start_position = np.array([0.0, 0.0, 0.0])  # Example starting position\n",
    "start_direction = random_direction()  # Example starting direction\n",
    "\n",
    "# Wrap the individual NumPy arrays in lists\n",
    "start_position_list = [start_position]\n",
    "start_direction_list = [start_direction]\n",
    "\n",
    "result = simulate_neutron_over_N_collisions(R, lam, start_position_list, start_direction_list, N=100)\n",
    "print(\"Number of neutrons after N epochs:\", result)"
   ]
  },
  {
   "cell_type": "code",
   "execution_count": 50,
   "id": "2ae8034e-814e-4d82-a969-0721d4ec6f41",
   "metadata": {
    "tags": []
   },
   "outputs": [
    {
     "name": "stdout",
     "output_type": "stream",
     "text": [
      "Is the system supercritical? True\n"
     ]
    }
   ],
   "source": [
    "## Sample a random point in a sphere where every position is equally likely\n",
    "def uniform_point_in_sphere(R):\n",
    "    # Generate random polar and azimuthal angles\n",
    "    theta = np.random.uniform(0, np.pi)  # Polar angle (0 to pi)\n",
    "    phi = np.random.uniform(0, 2 * np.pi)  # Azimuthal angle (0 to 2*pi)\n",
    "\n",
    "    # Convert spherical coordinates to Cartesian coordinates\n",
    "    x = R * np.sin(theta) * np.cos(phi)\n",
    "    y = R * np.sin(theta) * np.sin(phi)\n",
    "    z = R * np.cos(theta)\n",
    "\n",
    "    return np.array([x, y, z])\n",
    "\n",
    "def is_supercritical(R: float, lam: float) -> bool:\n",
    "    # Start with 1000 naturally emitted neutrons\n",
    "    new_neutrons = 0\n",
    "    for i in range(1000):\n",
    "       # Change start_positions from a single point to 3 uniform distributed values between 0 and R\n",
    "        start_positions =  [uniform_point_in_sphere(R)]\n",
    "        start_directions = [random_direction()]\n",
    "        new_neutrons += simulate_neutron_over_N_collisions(R, lam, start_positions, start_directions, N=100)\n",
    "\n",
    "        if(new_neutrons > 1000):\n",
    "            return True\n",
    "\n",
    "        # Check if the system is supercritical (more than 1000 neutrons)\n",
    "    return False\n",
    "result = is_supercritical(R=13, lam=0.1)\n",
    "print(\"Is the system supercritical?\", result)"
   ]
  },
  {
   "cell_type": "code",
   "execution_count": 42,
   "id": "f58c0342-3c72-43f8-a789-cac261467812",
   "metadata": {
    "tags": []
   },
   "outputs": [
    {
     "data": {
      "text/plain": [
       "array([9.31350344, 5.58223289, 7.7577593 ])"
      ]
     },
     "execution_count": 42,
     "metadata": {},
     "output_type": "execute_result"
    }
   ],
   "source": [
    "random.uniform(0,12.5,3)"
   ]
  },
  {
   "cell_type": "markdown",
   "id": "ef241733-2d5a-4389-a9c4-bcc4ef1d7038",
   "metadata": {},
   "source": [
    "For $\\lambda = 0.1$ determine the radius of a supercirital sphere"
   ]
  },
  {
   "cell_type": "code",
   "execution_count": 47,
   "id": "1f0817ba-26a0-49ac-ab0b-3c068f40e253",
   "metadata": {
    "tags": []
   },
   "outputs": [
    {
     "data": {
      "image/png": "[encoded data removed]",
      "text/plain": [
       "<Figure size 640x480 with 1 Axes>"
      ]
     },
     "metadata": {},
     "output_type": "display_data"
    }
   ],
   "source": [
    "# Generate array of 101 values from 10 to 20 (inclusive)\n",
    "R_vals = np.linspace(start=10., stop=16., num=22)\n",
    "\n",
    "# Initialize an empty list to store supercritical flags\n",
    "supercritical = []\n",
    "\n",
    "# Iterate through radius values and check if the state is supercritical\n",
    "for radius in tqdm(R_vals, desc=\"Processing radius values\"):\n",
    "    if is_supercritical(R=radius, lam=0.1):\n",
    "        supercritical.append(1)\n",
    "    else:\n",
    "        supercritical.append(0)\n",
    "\n",
    "# Create a line plot\n",
    "plt.scatter(R_vals, supercritical)\n",
    "plt.xlabel('Radius')\n",
    "plt.ylabel('Supercritical')\n",
    "plt.title('Supercritical vs. Radius (for lambda = 0.1)')\n",
    "plt.legend()\n",
    "plt.show()"
   ]
  },
  {
   "cell_type": "code",
   "execution_count": 13,
   "id": "bb9cbca6-85d9-4612-a46f-71a9a63d7d7e",
   "metadata": {
    "tags": []
   },
   "outputs": [],
   "source": [
    "# Your answers here...\n",
    "\n",
    "# The critical radius has value between 12.5 and 13.\n",
    "# Every radius larger than that also results in a supercritical sphere, because particles have a longer way to get outside the radius.\n",
    "# This results in more opportunitites for the neutron to split atoms and releasing more neutrons."
   ]
  },
  {
   "cell_type": "code",
   "execution_count": 14,
   "id": "8889c369-390d-467f-8c1b-81c0b0a523f3",
   "metadata": {
    "tags": []
   },
   "outputs": [
    {
     "name": "stdout",
     "output_type": "stream",
     "text": [
      "The critical radius for lambda = 0.1 is approximately 12.21\n"
     ]
    }
   ],
   "source": [
    "def find_critical_radius(lam: float, tolerance: float = 0.0000001):\n",
    "    # Initial bounds for the search\n",
    "    lower_bound = 1.0\n",
    "    upper_bound = 100.0\n",
    "\n",
    "    while upper_bound - lower_bound > tolerance:\n",
    "        # Midpoint of the current bounds\n",
    "        mid_radius = (lower_bound + upper_bound) / 2.0\n",
    "\n",
    "        # Check if the system is n times supercritical at the midpoint\n",
    "        is_critical = is_supercritical(mid_radius, lam)\n",
    "\n",
    "        if is_critical:\n",
    "            # If supercritical, adjust the upper bound\n",
    "            upper_bound = mid_radius\n",
    "        else:\n",
    "            # If not supercritical, adjust the lower bound\n",
    "            lower_bound = mid_radius\n",
    "\n",
    "    # The critical radius is in the middle of the final bounds\n",
    "    critical_radius = (lower_bound + upper_bound) / 2.0\n",
    "    return critical_radius\n",
    "\n",
    "# Example usage with lambda = 0.1\n",
    "critical_radius = find_critical_radius(lam=0.1)\n",
    "print(f\"The critical radius for lambda = 0.1 is approximately {critical_radius:.2f}\")"
   ]
  },
  {
   "cell_type": "markdown",
   "id": "ef528544-dec8-4a28-b31c-d17b55687efe",
   "metadata": {},
   "source": [
    "# Ring Ising Model"
   ]
  },
  {
   "cell_type": "markdown",
   "id": "36744b8f-83aa-4f07-b2ed-8e51736c899b",
   "metadata": {},
   "source": [
    "We have $N$ random variables $S_0$, ..., $S_{N-1}$ which take values in $\\{-1,1\\}$. The interactions form a ring, which means the energy of the system is desribed by $E = -J \\sum_{i = 0}^{N-1}  S_{i}S_{(i+1)  \\mathrm{mod} N} $ where $J > 0$."
   ]
  },
  {
   "cell_type": "markdown",
   "id": "1de04f73-c412-4cab-aa26-1f359915ecae",
   "metadata": {},
   "source": [
    "This means the probabilty of a state is proportional to $\\exp(-\\frac{E}{\\tau})$, where $\\tau > 0$ is the fundamental temperature. The fundamanetal temperature $\\tau$ is defined as $\\tau = k_B T$, where $k_B$ is Boltzman constant and $T$ the temperature."
   ]
  },
  {
   "cell_type": "markdown",
   "id": "72208941-2e00-48bb-a7ad-087dd0f2dae7",
   "metadata": {},
   "source": [
    "Your task is to implement the Metropolis Hastings Algorithm to estimate the energy per particle $E/N$, given the fundamental temperature $\\tau$ and the interaction strength $J$."
   ]
  },
  {
   "cell_type": "markdown",
   "id": "da728b8e-c0b5-4535-bee1-45eb6f5e106a",
   "metadata": {},
   "source": [
    "The proposal function will have a hyperparamter $\\mu \\in [0,1]$ which indicates the \"mutation\" probability. When we are at state $s_0, ..., s_{N-1}$, we change the sign of $s_i$ with a probability $\\mu$ independently for all $i$."
   ]
  },
  {
   "cell_type": "code",
   "execution_count": 2,
   "id": "62588214-94cd-470e-80a6-d051b3eb46db",
   "metadata": {
    "tags": []
   },
   "outputs": [
    {
     "data": {
      "text/plain": [
       "-45"
      ]
     },
     "execution_count": 2,
     "metadata": {},
     "output_type": "execute_result"
    }
   ],
   "source": [
    "# If you like you can use numpy arrays instead of lists\n",
    "def energy(J : float, state: list[int]) -> float:\n",
    "    # Get the product of the states\n",
    "    state_product = []\n",
    "\n",
    "    n = len(state)\n",
    "    # Multiply each element with the next one and last with first\n",
    "    for i in range(n - 1):\n",
    "        state_product.append(state[i] * state[i + 1])\n",
    "    state_product.append(state[-1] * state[0])\n",
    "    E = -J * sum(state_product)\n",
    "    return(E)\n",
    "\n",
    "# Test:\n",
    "energy(1, [1,2,3,4,5])"
   ]
  },
  {
   "cell_type": "code",
   "execution_count": 3,
   "id": "063158e6-75c9-4406-93f5-8b2118ccee01",
   "metadata": {
    "tags": []
   },
   "outputs": [
    {
     "data": {
      "text/plain": [
       "[1, 2, 3, 4, -5, 6, 7, 8, 9, 10]"
      ]
     },
     "execution_count": 3,
     "metadata": {},
     "output_type": "execute_result"
    }
   ],
   "source": [
    "# Implement the proposal function described above\n",
    "def proposal(mu : float, state : list[int]) -> list[int]:\n",
    "    # Create a copy of the state to modify\n",
    "    proposed_state = state.copy()\n",
    "\n",
    "    # Iterate through each element and change the sign with probability mu\n",
    "    for i in range(len(proposed_state)):\n",
    "        if random.uniform(0, 1) < mu:\n",
    "            proposed_state[i] *= -1  # Change the sign\n",
    "\n",
    "    return proposed_state\n",
    "    \n",
    "# Test:\n",
    "proposal(0.1, [1,2,3,4,5,6,7,8,9,10])"
   ]
  },
  {
   "cell_type": "code",
   "execution_count": 4,
   "id": "9c865b6a-9562-4773-bdb8-c415eaa261f9",
   "metadata": {
    "tags": []
   },
   "outputs": [],
   "source": [
    "#Perform a step in the Metropolis Hastings algorithm to sample a new state of the system and return the new state and if the mutated state was accepted\n",
    "def do_step(J: float, tau: float, mu: float, state: list[int]) -> list[int]:\n",
    "    # Notice that q(z_t|z') = q(z'|z_t) as getting from one to the other needs to have the same signs flipped\n",
    "    # Hence, acceptance probability is min{1, p(proposal)/p(current)}\n",
    "    current_state = state\n",
    "    proposed_state = proposal(mu, state)\n",
    "    \n",
    "    current_E = energy(J, state)\n",
    "    proposed_E = energy(J, proposed_state)\n",
    "\n",
    "    # Calculate the acceptance probability. Mind the minus in the formula in the exponent!!!\n",
    "    accept_prob = min(1, np.exp((current_E - proposed_E) / tau))\n",
    "\n",
    "    # Accept or reject the proposal based on the acceptance probability\n",
    "    if random.uniform(0, 1) < accept_prob:\n",
    "        return proposed_state, True # Accept\n",
    "    else:\n",
    "        return current_state, False # Reject\n",
    "    "
   ]
  },
  {
   "cell_type": "code",
   "execution_count": 5,
   "id": "2392b543-c52e-4598-849b-1a5b022c8aef",
   "metadata": {
    "tags": []
   },
   "outputs": [],
   "source": [
    "# Do the metropolis hastings step `steps` times, average the energy of all the steps (excluding the start configuration) and calculate the mutation rate\n",
    "def metro_hast(J : float, tau: float, mu: float, steps: int, start: list[int]) -> float:\n",
    "\n",
    "    total_energy = 0\n",
    "    mutation_count = 0\n",
    "    current_state = start\n",
    "\n",
    "    for _ in range(steps):\n",
    "        new_state, accepted = do_step(J, tau, mu, current_state)\n",
    "        total_energy += energy(J, new_state)\n",
    "        if accepted:\n",
    "            mutation_count += 1\n",
    "\n",
    "        current_state = new_state\n",
    "\n",
    "    # Calculate average energy and mutation rate\n",
    "    average_energy = total_energy / steps\n",
    "    mutation_rate = mutation_count / steps\n",
    "\n",
    "    return average_energy, mutation_rate"
   ]
  },
  {
   "cell_type": "code",
   "execution_count": 8,
   "id": "a9c350bb-98aa-43da-9160-246cce2bf185",
   "metadata": {
    "tags": []
   },
   "outputs": [
    {
     "name": "stderr",
     "output_type": "stream",
     "text": [
      "Processing mu values: 100%|██████████| 99/99 [00:07<00:00, 12.97it/s]\n"
     ]
    },
    {
     "data": {
      "image/png": "[encoded data removed]",
      "text/plain": [
       "<Figure size 640x480 with 1 Axes>"
      ]
     },
     "metadata": {},
     "output_type": "display_data"
    }
   ],
   "source": [
    "#Plot the mutation rate for different values of mu and describe what happens. What do you observe and why does it happen?\n",
    "J = 1.0\n",
    "tau = 5.0\n",
    "N = 50\n",
    "mu_values = []\n",
    "mutation_rates = []\n",
    "\n",
    "def plot(J: float, tau: float):\n",
    "    \n",
    "    for mu_int in tqdm(range(1, 100), desc=\"Processing mu values\"):\n",
    "        mu = mu_int / 100.0\n",
    "        mu_values.append(mu)\n",
    "\n",
    "        # Perform Metropolis Hastings with the current mu\n",
    "        steps = 1000\n",
    "        initial_state = 2* np.random.randint(2, size = N)-1\n",
    "        _, mutation_rate = metro_hast(J, tau, mu, steps, initial_state)\n",
    "\n",
    "        mutation_rates.append(mutation_rate)\n",
    "\n",
    "    # Plot the results\n",
    "    plt.plot(mu_values, mutation_rates)\n",
    "    plt.xlabel('Mutation Probability (mu)')\n",
    "    plt.ylabel('Mutation Rate')\n",
    "    plt.title('Mutation Rate vs. Mutation Probability')\n",
    "    plt.show()\n",
    "plot(J, tau)"
   ]
  },
  {
   "cell_type": "code",
   "execution_count": 21,
   "id": "a445c2c2-7c59-4586-aa5d-9ec57f1e1cc8",
   "metadata": {
    "tags": []
   },
   "outputs": [],
   "source": [
    "## As can be seen, the Mutation Rate gets smaller the closer mu is to 0.5 and it gets bigger the further mu is away from 0.5"
   ]
  },
  {
   "cell_type": "code",
   "execution_count": 9,
   "id": "0f7d1435-9029-4ac3-8bc2-36fe7cad2fc5",
   "metadata": {
    "tags": []
   },
   "outputs": [],
   "source": [
    "#This should calculate metro_hast() / N\n",
    "#Use it to compare your results (It might be needed to find a good mu)\n",
    "def analytical(J: float, tau: float):\n",
    "    e = (math.exp(-J/tau) - math.exp(J/tau)) / (math.exp(-J/tau) + math.exp(J/tau))\n",
    "    return e"
   ]
  },
  {
   "cell_type": "code",
   "execution_count": 23,
   "id": "4469c662-ce34-44ca-af41-4ee2113b813b",
   "metadata": {
    "tags": []
   },
   "outputs": [
    {
     "data": {
      "text/plain": [
       "-0.19737532022490403"
      ]
     },
     "execution_count": 23,
     "metadata": {},
     "output_type": "execute_result"
    }
   ],
   "source": [
    "analytical(1,5)"
   ]
  },
  {
   "cell_type": "code",
   "execution_count": null,
   "id": "d800e649-3215-494c-b818-e62ecaa5ac41",
   "metadata": {},
   "outputs": [],
   "source": []
  }
 ],
 "metadata": {
  "kernelspec": {
   "display_name": "Python 3 (ipykernel)",
   "language": "python",
   "name": "python3"
  },
  "language_info": {
   "codemirror_mode": {
    "name": "ipython",
    "version": 3
   },
   "file_extension": ".py",
   "mimetype": "text/x-python",
   "name": "python",
   "nbconvert_exporter": "python",
   "pygments_lexer": "ipython3",
   "version": "3.10.10"
  }
 },
 "nbformat": 4,
 "nbformat_minor": 5
}
