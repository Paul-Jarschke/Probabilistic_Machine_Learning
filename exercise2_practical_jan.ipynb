{
 "cells": [
  {
   "cell_type": "code",
   "execution_count": 1,
   "metadata": {
    "id": "x47NDE2yzqOA",
    "tags": []
   },
   "outputs": [],
   "source": [
    "import numpy as np\n",
    "import pandas as pd\n",
    "pd.options.mode.chained_assignment = None"
   ]
  },
  {
   "cell_type": "markdown",
   "metadata": {
    "id": "SunS-ABCzwqs"
   },
   "source": [
    "# Bayesian COVID-19 Classifier\n",
    "In this task you will develop a simple COVID-19 Classifier based on Bayesian Networks.\n",
    "For this, you should fill in the dots."
   ]
  },
  {
   "cell_type": "markdown",
   "metadata": {
    "id": "mtjtZFU90JW3"
   },
   "source": [
    "## Load Data\n",
    "Here we will use a fragment of the dataset, which has been published alongside the paper [\"Machine learning-based prediction of COVID-19 diagnosis based on symptoms\" Yazeed Zoabi, Shira Deri-Rozov & Noam Shomron](https://www.nature.com/articles/s41746-020-00372-6).\n",
    "\n",
    "It is a dataset with various symptoms and the associated COVID-19 test results.\n",
    "\n",
    "First you need to load in the data from the `covid_symptoms_data.csv` supplied along with the exercise.\n",
    "\n"
   ]
  },
  {
   "cell_type": "code",
   "execution_count": 2,
   "metadata": {
    "id": "har6IHUF0Ivb",
    "tags": []
   },
   "outputs": [],
   "source": [
    "data = pd.read_csv('./covid_symptoms_data.csv')"
   ]
  },
  {
   "cell_type": "markdown",
   "metadata": {
    "id": "QUQbVZj51PN6"
   },
   "source": [
    "There are 5 different syptoms considered in this dataset: `cough`, `fever`, `sore_throat`,\t`shortness_of_breath`, `head_ache`. If the value is 1 then the symptom is present if 0 it is not. The `corona_result` column provides the result of the COVID-19 test. It can be either \"*negative*\", \"*positive*\" or \"*other*\". Here we are only interested in the \"*negative*\" and \"*positive*\" outcomes.\n",
    "Let's clean up the dataset to only contain data that is relevant to our classification task."
   ]
  },
  {
   "cell_type": "code",
   "execution_count": 3,
   "metadata": {
    "colab": {
     "base_uri": "https://localhost:8080/",
     "height": 204
    },
    "id": "Ir-Wda_w2IN5",
    "outputId": "b87550a6-7007-4990-f732-4152e5a6162e",
    "tags": []
   },
   "outputs": [
    {
     "data": {
      "text/html": [
       "<div>\n",
       "<style scoped>\n",
       "    .dataframe tbody tr th:only-of-type {\n",
       "        vertical-align: middle;\n",
       "    }\n",
       "\n",
       "    .dataframe tbody tr th {\n",
       "        vertical-align: top;\n",
       "    }\n",
       "\n",
       "    .dataframe thead th {\n",
       "        text-align: right;\n",
       "    }\n",
       "</style>\n",
       "<table border=\"1\" class=\"dataframe\">\n",
       "  <thead>\n",
       "    <tr style=\"text-align: right;\">\n",
       "      <th></th>\n",
       "      <th>cough</th>\n",
       "      <th>fever</th>\n",
       "      <th>sore_throat</th>\n",
       "      <th>shortness_of_breath</th>\n",
       "      <th>head_ache</th>\n",
       "      <th>corona_result</th>\n",
       "    </tr>\n",
       "  </thead>\n",
       "  <tbody>\n",
       "    <tr>\n",
       "      <th>0</th>\n",
       "      <td>0</td>\n",
       "      <td>0</td>\n",
       "      <td>0</td>\n",
       "      <td>0</td>\n",
       "      <td>0</td>\n",
       "      <td>0</td>\n",
       "    </tr>\n",
       "    <tr>\n",
       "      <th>1</th>\n",
       "      <td>0</td>\n",
       "      <td>0</td>\n",
       "      <td>0</td>\n",
       "      <td>0</td>\n",
       "      <td>0</td>\n",
       "      <td>0</td>\n",
       "    </tr>\n",
       "    <tr>\n",
       "      <th>2</th>\n",
       "      <td>0</td>\n",
       "      <td>0</td>\n",
       "      <td>0</td>\n",
       "      <td>0</td>\n",
       "      <td>0</td>\n",
       "      <td>0</td>\n",
       "    </tr>\n",
       "    <tr>\n",
       "      <th>3</th>\n",
       "      <td>0</td>\n",
       "      <td>0</td>\n",
       "      <td>0</td>\n",
       "      <td>0</td>\n",
       "      <td>0</td>\n",
       "      <td>0</td>\n",
       "    </tr>\n",
       "    <tr>\n",
       "      <th>4</th>\n",
       "      <td>0</td>\n",
       "      <td>0</td>\n",
       "      <td>0</td>\n",
       "      <td>0</td>\n",
       "      <td>0</td>\n",
       "      <td>0</td>\n",
       "    </tr>\n",
       "    <tr>\n",
       "      <th>...</th>\n",
       "      <td>...</td>\n",
       "      <td>...</td>\n",
       "      <td>...</td>\n",
       "      <td>...</td>\n",
       "      <td>...</td>\n",
       "      <td>...</td>\n",
       "    </tr>\n",
       "    <tr>\n",
       "      <th>55404</th>\n",
       "      <td>0</td>\n",
       "      <td>0</td>\n",
       "      <td>0</td>\n",
       "      <td>0</td>\n",
       "      <td>0</td>\n",
       "      <td>0</td>\n",
       "    </tr>\n",
       "    <tr>\n",
       "      <th>55405</th>\n",
       "      <td>0</td>\n",
       "      <td>0</td>\n",
       "      <td>0</td>\n",
       "      <td>0</td>\n",
       "      <td>0</td>\n",
       "      <td>0</td>\n",
       "    </tr>\n",
       "    <tr>\n",
       "      <th>55406</th>\n",
       "      <td>0</td>\n",
       "      <td>0</td>\n",
       "      <td>0</td>\n",
       "      <td>0</td>\n",
       "      <td>0</td>\n",
       "      <td>0</td>\n",
       "    </tr>\n",
       "    <tr>\n",
       "      <th>55408</th>\n",
       "      <td>0</td>\n",
       "      <td>0</td>\n",
       "      <td>0</td>\n",
       "      <td>0</td>\n",
       "      <td>0</td>\n",
       "      <td>0</td>\n",
       "    </tr>\n",
       "    <tr>\n",
       "      <th>55409</th>\n",
       "      <td>0</td>\n",
       "      <td>1</td>\n",
       "      <td>0</td>\n",
       "      <td>0</td>\n",
       "      <td>0</td>\n",
       "      <td>0</td>\n",
       "    </tr>\n",
       "  </tbody>\n",
       "</table>\n",
       "<p>54480 rows × 6 columns</p>\n",
       "</div>"
      ],
      "text/plain": [
       "       cough  fever  sore_throat  shortness_of_breath  head_ache   \n",
       "0          0      0            0                    0          0  \\\n",
       "1          0      0            0                    0          0   \n",
       "2          0      0            0                    0          0   \n",
       "3          0      0            0                    0          0   \n",
       "4          0      0            0                    0          0   \n",
       "...      ...    ...          ...                  ...        ...   \n",
       "55404      0      0            0                    0          0   \n",
       "55405      0      0            0                    0          0   \n",
       "55406      0      0            0                    0          0   \n",
       "55408      0      0            0                    0          0   \n",
       "55409      0      1            0                    0          0   \n",
       "\n",
       "       corona_result  \n",
       "0                  0  \n",
       "1                  0  \n",
       "2                  0  \n",
       "3                  0  \n",
       "4                  0  \n",
       "...              ...  \n",
       "55404              0  \n",
       "55405              0  \n",
       "55406              0  \n",
       "55408              0  \n",
       "55409              0  \n",
       "\n",
       "[54480 rows x 6 columns]"
      ]
     },
     "execution_count": 3,
     "metadata": {},
     "output_type": "execute_result"
    }
   ],
   "source": [
    "# Filter the negative and positive results\n",
    "clean_data = data.query('corona_result == \"negative\" or corona_result == \"positive\"')\n",
    "\n",
    "# Change the negative and positive results into a boolean variable\n",
    "clean_data['corona_result'] = clean_data['corona_result'].apply(lambda result: np.int0(result == \"positive\"))\n",
    "\n",
    "symptoms = ['cough', 'fever', 'sore_throat', 'shortness_of_breath', 'head_ache']\n",
    "\n",
    "# Select only the columns that are relevant\n",
    "clean_data = clean_data[symptoms + ['corona_result']]\n",
    "\n",
    "clean_data"
   ]
  },
  {
   "cell_type": "markdown",
   "metadata": {
    "id": "iOpLLVt_4Vgg"
   },
   "source": [
    "## Split into train and test datasets"
   ]
  },
  {
   "cell_type": "markdown",
   "metadata": {
    "id": "y0RzgP5XNulF"
   },
   "source": [
    "After loading and cleaning the data, we now have to split it into train and test data (ratio 10:1)"
   ]
  },
  {
   "cell_type": "code",
   "execution_count": 5,
   "metadata": {
    "id": "2T78DzTP4NR6",
    "tags": []
   },
   "outputs": [
    {
     "data": {
      "text/html": [
       "<div>\n",
       "<style scoped>\n",
       "    .dataframe tbody tr th:only-of-type {\n",
       "        vertical-align: middle;\n",
       "    }\n",
       "\n",
       "    .dataframe tbody tr th {\n",
       "        vertical-align: top;\n",
       "    }\n",
       "\n",
       "    .dataframe thead th {\n",
       "        text-align: right;\n",
       "    }\n",
       "</style>\n",
       "<table border=\"1\" class=\"dataframe\">\n",
       "  <thead>\n",
       "    <tr style=\"text-align: right;\">\n",
       "      <th></th>\n",
       "      <th>cough</th>\n",
       "      <th>fever</th>\n",
       "      <th>sore_throat</th>\n",
       "      <th>shortness_of_breath</th>\n",
       "      <th>head_ache</th>\n",
       "      <th>corona_result</th>\n",
       "    </tr>\n",
       "  </thead>\n",
       "  <tbody>\n",
       "    <tr>\n",
       "      <th>29255</th>\n",
       "      <td>0</td>\n",
       "      <td>0</td>\n",
       "      <td>0</td>\n",
       "      <td>0</td>\n",
       "      <td>0</td>\n",
       "      <td>1</td>\n",
       "    </tr>\n",
       "    <tr>\n",
       "      <th>38554</th>\n",
       "      <td>0</td>\n",
       "      <td>0</td>\n",
       "      <td>0</td>\n",
       "      <td>0</td>\n",
       "      <td>0</td>\n",
       "      <td>0</td>\n",
       "    </tr>\n",
       "    <tr>\n",
       "      <th>39010</th>\n",
       "      <td>0</td>\n",
       "      <td>0</td>\n",
       "      <td>0</td>\n",
       "      <td>0</td>\n",
       "      <td>0</td>\n",
       "      <td>0</td>\n",
       "    </tr>\n",
       "    <tr>\n",
       "      <th>4828</th>\n",
       "      <td>0</td>\n",
       "      <td>0</td>\n",
       "      <td>0</td>\n",
       "      <td>0</td>\n",
       "      <td>0</td>\n",
       "      <td>0</td>\n",
       "    </tr>\n",
       "    <tr>\n",
       "      <th>30340</th>\n",
       "      <td>1</td>\n",
       "      <td>1</td>\n",
       "      <td>0</td>\n",
       "      <td>0</td>\n",
       "      <td>0</td>\n",
       "      <td>0</td>\n",
       "    </tr>\n",
       "    <tr>\n",
       "      <th>...</th>\n",
       "      <td>...</td>\n",
       "      <td>...</td>\n",
       "      <td>...</td>\n",
       "      <td>...</td>\n",
       "      <td>...</td>\n",
       "      <td>...</td>\n",
       "    </tr>\n",
       "    <tr>\n",
       "      <th>3951</th>\n",
       "      <td>0</td>\n",
       "      <td>0</td>\n",
       "      <td>1</td>\n",
       "      <td>0</td>\n",
       "      <td>0</td>\n",
       "      <td>0</td>\n",
       "    </tr>\n",
       "    <tr>\n",
       "      <th>17387</th>\n",
       "      <td>0</td>\n",
       "      <td>0</td>\n",
       "      <td>0</td>\n",
       "      <td>0</td>\n",
       "      <td>0</td>\n",
       "      <td>0</td>\n",
       "    </tr>\n",
       "    <tr>\n",
       "      <th>1565</th>\n",
       "      <td>0</td>\n",
       "      <td>0</td>\n",
       "      <td>0</td>\n",
       "      <td>0</td>\n",
       "      <td>0</td>\n",
       "      <td>0</td>\n",
       "    </tr>\n",
       "    <tr>\n",
       "      <th>43981</th>\n",
       "      <td>0</td>\n",
       "      <td>0</td>\n",
       "      <td>0</td>\n",
       "      <td>0</td>\n",
       "      <td>0</td>\n",
       "      <td>0</td>\n",
       "    </tr>\n",
       "    <tr>\n",
       "      <th>54007</th>\n",
       "      <td>1</td>\n",
       "      <td>0</td>\n",
       "      <td>1</td>\n",
       "      <td>0</td>\n",
       "      <td>0</td>\n",
       "      <td>0</td>\n",
       "    </tr>\n",
       "  </tbody>\n",
       "</table>\n",
       "<p>49032 rows × 6 columns</p>\n",
       "</div>"
      ],
      "text/plain": [
       "       cough  fever  sore_throat  shortness_of_breath  head_ache   \n",
       "29255      0      0            0                    0          0  \\\n",
       "38554      0      0            0                    0          0   \n",
       "39010      0      0            0                    0          0   \n",
       "4828       0      0            0                    0          0   \n",
       "30340      1      1            0                    0          0   \n",
       "...      ...    ...          ...                  ...        ...   \n",
       "3951       0      0            1                    0          0   \n",
       "17387      0      0            0                    0          0   \n",
       "1565       0      0            0                    0          0   \n",
       "43981      0      0            0                    0          0   \n",
       "54007      1      0            1                    0          0   \n",
       "\n",
       "       corona_result  \n",
       "29255              1  \n",
       "38554              0  \n",
       "39010              0  \n",
       "4828               0  \n",
       "30340              0  \n",
       "...              ...  \n",
       "3951               0  \n",
       "17387              0  \n",
       "1565               0  \n",
       "43981              0  \n",
       "54007              0  \n",
       "\n",
       "[49032 rows x 6 columns]"
      ]
     },
     "execution_count": 5,
     "metadata": {},
     "output_type": "execute_result"
    }
   ],
   "source": [
    "\n",
    "train_data = clean_data.sample(frac=0.9,random_state=20)\n",
    "test_data = clean_data.drop(train_data.index)\n",
    "\n",
    "train_data"
   ]
  },
  {
   "cell_type": "markdown",
   "metadata": {
    "id": "xN5cSWMy9dZY"
   },
   "source": [
    "## Compute the probabilities\n",
    "Now using the training data compute the probabilities $p(C)$ and $p(s_i \\mid C)$ from the data."
   ]
  },
  {
   "cell_type": "code",
   "execution_count": 10,
   "metadata": {
    "id": "GQKNwHAm5C_F",
    "tags": []
   },
   "outputs": [
    {
     "name": "stdout",
     "output_type": "stream",
     "text": [
      "0.08188529939631262\n",
      "0.001104310074318736\n",
      "9.043527845772005e-05\n"
     ]
    }
   ],
   "source": [
    "p_covid = train_data['corona_result'].sum()/len(train_data) # prior of covid test\n",
    "\n",
    "\n",
    "cov_1 = train_data.loc[train_data['corona_result'] == 1]\n",
    "cov_0 = train_data.loc[train_data['corona_result'] == 0]\n",
    "\n",
    "def psc(data):\n",
    "    product = 1\n",
    "    for symptom in symptoms:\n",
    "        product = data[symptom].sum()/len(data)* product\n",
    "    return product    \n",
    "    \n",
    "    \n",
    "    \n",
    "p_symptom_covid = psc(cov_1)  # likelihood of the symptoms given covid\n",
    "p_symptom = psc(cov_1)* p_covid + psc(cov_0)*(1-p_covid)  # evidence of the symptoms\n",
    "\n",
    "\n",
    "print(p_covid)\n",
    "print(p_symptom_covid)\n",
    "print(p_symptom)\n",
    "\n"
   ]
  },
  {
   "cell_type": "markdown",
   "metadata": {
    "id": "I4YD5rexAkmj"
   },
   "source": [
    "## Compute the posterior for the data\n",
    "Given the probabilites implement the posterior \n",
    "$$ p\\left(C = 1 \\mid \\mathbf{S=s}\\right) = \\frac{p\\left(C = 1\\right)}{Z}\\prod_{j=1}^5 p\\left(S_j=s_j \\mid C = 1\\right),$$\n",
    "where $Z$ is a normalizing factor of the form $Z = \\sum_{i=0}^1 p\\left(C = i\\right)\\prod_{j=1}^5 p\\left(S_j=s_j \\mid C = i\\right)$."
   ]
  },
  {
   "cell_type": "code",
   "execution_count": 29,
   "metadata": {
    "id": "agLGfazs7GpW",
    "tags": []
   },
   "outputs": [
    {
     "name": "stdout",
     "output_type": "stream",
     "text": [
      "[0.50884184 0.48393524 0.1494396  0.13599004 0.22067248]\n",
      "[0.13381611 0.06755226 0.0110847  0.00877446 0.01055157]\n",
      "[1 0 0 1 0]\n",
      "0.6633800536958459\n",
      "[[0 0 0 0 0]\n",
      " [0 0 0 0 0]\n",
      " [0 0 0 0 0]\n",
      " ...\n",
      " [0 0 0 0 0]\n",
      " [0 0 0 0 0]\n",
      " [1 0 1 0 0]]\n",
      "[0.01625922 0.01625922 0.01625922 ... 0.01625922 0.01625922 0.63467816]\n"
     ]
    }
   ],
   "source": [
    "X_train = train_data[symptoms].to_numpy()\n",
    "y_train = train_data['corona_result'].to_numpy()\n",
    "\n",
    "\n",
    "\n",
    "\n",
    "def prob_symp(symptom,data):\n",
    "    return data[symptom].sum()/len(data)\n",
    "\n",
    "p_s_c1 = np.array([prob_symp(symptom, cov_1) for symptom in symptoms]) # probability of symptom given covid is true\n",
    "p_s_c0 = np.array([prob_symp(symptom, cov_0) for symptom in symptoms]) # probability of symptom given covid is false\n",
    "\n",
    "print(p_s_c1)\n",
    "print(p_s_c0)\n",
    "\n",
    "def post(system):\n",
    "    inverse1 = 1-p_s_c1\n",
    "    inverse0 = 1- p_s_c0\n",
    "    \n",
    "    probabilities = system * p_s_c1\n",
    "    likelihood = [inverse1[i] if probabilities[i] == 0 else probabilities[i] for i in range(len(probabilities))]\n",
    "    \n",
    "    given0 = system * p_s_c0\n",
    "    Z_first_part = [inverse0[i] if given0[i] == 0 else given0[i] for i in range(len(given0))]\n",
    "    Z =  np.prod(Z_first_part)* (1-p_covid)+ np.prod(likelihood) * p_covid\n",
    "    \n",
    "    return p_covid * np.prod(likelihood)/Z\n",
    "\n",
    "print(X_train[20,:])\n",
    "print(post(X_train[20,:]))                                                                                           \n",
    "print(X_train)    \n",
    "\n",
    "p_covid_symptoms = np.apply_along_axis(post, axis=1, arr=X_train)# posterior probability of covid given system\n",
    "\n",
    "print(p_covid_symptoms)"
   ]
  },
  {
   "cell_type": "markdown",
   "metadata": {
    "id": "EXG2AFwyO3_E"
   },
   "source": [
    "If $P(C=1 \\mid \\mathbf{s}) > 0.5$ we assume that the patient is classified as positive for COVID-19. Get the classifications $y_{pred}$ for testing set $X_{test}$"
   ]
  },
  {
   "cell_type": "code",
   "execution_count": 42,
   "metadata": {
    "id": "KsHJ8Bi3O22Y",
    "tags": []
   },
   "outputs": [
    {
     "name": "stdout",
     "output_type": "stream",
     "text": [
      "[0 1 1 ... 0 0 0]\n"
     ]
    },
    {
     "data": {
      "text/plain": [
       "array([1, 0, 0, 0, 0, 0, 0, 0, 0, 0, 0, 0, 1, 1, 0, 0, 0, 0, 0, 0, 0, 0,\n",
       "       0, 0, 0, 0, 0, 0, 0, 0, 0, 0, 0, 0, 0, 0, 1, 0, 0, 0, 0, 0, 0, 0,\n",
       "       0, 0, 0, 0, 0, 0, 0, 1, 0, 0, 0, 0, 0, 0, 0, 0, 0, 0, 0, 0, 0, 0,\n",
       "       0, 0, 0, 0, 0, 0, 0, 0, 0, 0, 0, 0, 0, 0, 0, 0, 0, 0, 0, 0, 0, 0,\n",
       "       0, 0, 0, 0, 0, 0, 0, 0, 0, 0, 0, 0, 0, 1, 0, 0, 0, 0, 0, 0, 0, 0,\n",
       "       0, 0, 0, 0, 0, 0, 0, 0, 0, 0, 0, 0, 0, 0, 0, 1, 0, 0, 0, 0, 0, 0,\n",
       "       0, 0, 0, 0, 0, 0, 0, 0, 0, 0, 0, 0, 0, 0, 0, 0, 0, 0, 0, 0, 0, 0,\n",
       "       0, 0, 0, 0, 0, 0, 0, 0, 0, 0, 0, 0, 0, 0, 0, 0, 0, 0, 0, 0, 0, 0,\n",
       "       0, 0, 0, 0, 0, 0, 0, 0, 1, 0, 0, 0, 0, 0, 0, 1, 1, 1, 0, 0, 0, 1,\n",
       "       0, 0, 0, 0, 0, 1, 0, 0, 0, 1, 0, 0, 0, 0, 0, 0, 0, 0, 0, 0, 0, 0,\n",
       "       0, 0, 0, 0, 1, 0, 0, 0, 0, 0, 0, 0, 0, 0, 0, 0, 0, 0, 0, 0, 0, 1,\n",
       "       1, 1, 0, 0, 0, 0, 1, 0, 1, 0, 0, 0, 0, 0, 0, 0, 0, 0, 0, 1, 0, 0,\n",
       "       0, 0, 0, 0, 0, 0, 0, 0, 0, 0, 1, 0, 0, 0, 0, 0, 0, 0, 0, 0, 0, 0,\n",
       "       0, 0, 0, 0, 0, 0, 0, 0, 0, 0, 0, 0, 0, 0, 0, 0, 0, 0, 0, 0, 0, 0,\n",
       "       0, 0, 0, 0, 0, 0, 0, 0, 0, 0, 0, 0, 0, 0, 0, 0, 0, 0, 0, 0, 0, 0])"
      ]
     },
     "execution_count": 42,
     "metadata": {},
     "output_type": "execute_result"
    }
   ],
   "source": [
    "X_test = test_data[symptoms].to_numpy()\n",
    "y_test = test_data['corona_result'].to_numpy()\n",
    "\n",
    "p_covid_symptoms_test = np.apply_along_axis(post, axis=1, arr=X_test)\n",
    "y_pred = np.asarray([1 if val > 0.5 else 0 for val in p_covid_symptoms_test])# P(C = 1 | s) > 0.5 for X_test\n",
    "\n",
    "print(y_pred)\n",
    "y_pred[20:350]"
   ]
  },
  {
   "cell_type": "markdown",
   "metadata": {
    "id": "l4MM__yyI3Ij"
   },
   "source": [
    "## Evaluate the accuracy\n",
    "Verify the accuracy of this classifier on the test data.\n",
    "\n",
    "\\begin{equation}\n",
    "ACC = \\frac{\\sum_{i=0}^N \\mathbb{I}[y_{pred}^{(i)} = y_{test}^{(i)}]}{|y_{test}|},\n",
    "\\end{equation}\n",
    "$\\mathbb{I}[true] = 1$ and $\\mathbb{I}[false] = 0$."
   ]
  },
  {
   "cell_type": "code",
   "execution_count": 43,
   "metadata": {
    "id": "-E7lAsCMK2X7",
    "tags": []
   },
   "outputs": [
    {
     "name": "stdout",
     "output_type": "stream",
     "text": [
      "5448\n",
      "5448\n",
      "0.8907856093979442\n"
     ]
    }
   ],
   "source": [
    "def accuracy(pred,test):\n",
    "    correct = 0\n",
    "    for i in range(len(pred)):\n",
    "        if pred[i] == test[i]:\n",
    "            correct +=1\n",
    "    return correct/len(test)    \n",
    "\n",
    "print(len(y_test))\n",
    "print(len(y_pred))\n",
    "acc = accuracy(y_pred,y_test)\n",
    "print(acc)"
   ]
  },
  {
   "cell_type": "markdown",
   "metadata": {
    "id": "xd6AM4uPNbEv"
   },
   "source": [
    "#### Questions\n",
    "- What do you observe when evaluating the classifier?\n",
    "- How well does this classifier perform and why?\n",
    "- What could you do to improve the classifier?"
   ]
  },
  {
   "cell_type": "markdown",
   "metadata": {
    "id": "RmSF6z-LNnoG"
   },
   "source": [
    "Your Answers:"
   ]
  },
  {
   "cell_type": "code",
   "execution_count": null,
   "metadata": {
    "id": "zNV5tBRkNy4R"
   },
   "outputs": [],
   "source": []
  }
 ],
 "metadata": {
  "colab": {
   "collapsed_sections": [],
   "name": "Covid_classifier_Exercise (1).ipynb",
   "provenance": []
  },
  "kernelspec": {
   "display_name": "Python 3 (ipykernel)",
   "language": "python",
   "name": "python3"
  },
  "language_info": {
   "codemirror_mode": {
    "name": "ipython",
    "version": 3
   },
   "file_extension": ".py",
   "mimetype": "text/x-python",
   "name": "python",
   "nbconvert_exporter": "python",
   "pygments_lexer": "ipython3",
   "version": "3.10.10"
  }
 },
 "nbformat": 4,
 "nbformat_minor": 4
}
