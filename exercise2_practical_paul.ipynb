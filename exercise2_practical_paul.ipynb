{
 "cells": [
  {
   "cell_type": "code",
   "execution_count": 1,
   "metadata": {
    "id": "x47NDE2yzqOA"
   },
   "outputs": [],
   "source": [
    "import numpy as np\n",
    "import pandas as pd\n",
    "pd.options.mode.chained_assignment = None"
   ]
  },
  {
   "cell_type": "markdown",
   "metadata": {
    "id": "SunS-ABCzwqs"
   },
   "source": [
    "# Bayesian COVID-19 Classifier\n",
    "In this task you will develop a simple COVID-19 Classifier based on Bayesian Networks.\n",
    "For this, you should fill in the dots."
   ]
  },
  {
   "cell_type": "markdown",
   "metadata": {
    "id": "mtjtZFU90JW3"
   },
   "source": [
    "## Load Data\n",
    "Here we will use a fragment of the dataset, which has been published alongside the paper [\"Machine learning-based prediction of COVID-19 diagnosis based on symptoms\" Yazeed Zoabi, Shira Deri-Rozov & Noam Shomron](https://www.nature.com/articles/s41746-020-00372-6).\n",
    "\n",
    "It is a dataset with various symptoms and the associated COVID-19 test results.\n",
    "\n",
    "First you need to load in the data from the `covid_symptoms_data.csv` supplied along with the exercise.\n",
    "\n"
   ]
  },
  {
   "cell_type": "code",
   "execution_count": 2,
   "metadata": {
    "id": "har6IHUF0Ivb"
   },
   "outputs": [],
   "source": [
    "data = pd.read_csv('./covid_symptoms_data.csv')"
   ]
  },
  {
   "cell_type": "markdown",
   "metadata": {
    "id": "QUQbVZj51PN6"
   },
   "source": [
    "There are 5 different syptoms considered in this dataset: `cough`, `fever`, `sore_throat`,\t`shortness_of_breath`, `head_ache`. If the value is 1 then the symptom is present if 0 it is not. The `corona_result` column provides the result of the COVID-19 test. It can be either \"*negative*\", \"*positive*\" or \"*other*\". Here we are only interested in the \"*negative*\" and \"*positive*\" outcomes.\n",
    "Let's clean up the dataset to only contain data that is relevant to our classification task."
   ]
  },
  {
   "cell_type": "code",
   "execution_count": 3,
   "metadata": {
    "colab": {
     "base_uri": "https://localhost:8080/",
     "height": 204
    },
    "id": "Ir-Wda_w2IN5",
    "outputId": "b87550a6-7007-4990-f732-4152e5a6162e"
   },
   "outputs": [
    {
     "data": {
      "text/html": [
       "<div>\n",
       "<style scoped>\n",
       "    .dataframe tbody tr th:only-of-type {\n",
       "        vertical-align: middle;\n",
       "    }\n",
       "\n",
       "    .dataframe tbody tr th {\n",
       "        vertical-align: top;\n",
       "    }\n",
       "\n",
       "    .dataframe thead th {\n",
       "        text-align: right;\n",
       "    }\n",
       "</style>\n",
       "<table border=\"1\" class=\"dataframe\">\n",
       "  <thead>\n",
       "    <tr style=\"text-align: right;\">\n",
       "      <th></th>\n",
       "      <th>cough</th>\n",
       "      <th>fever</th>\n",
       "      <th>sore_throat</th>\n",
       "      <th>shortness_of_breath</th>\n",
       "      <th>head_ache</th>\n",
       "      <th>corona_result</th>\n",
       "    </tr>\n",
       "  </thead>\n",
       "  <tbody>\n",
       "    <tr>\n",
       "      <th>0</th>\n",
       "      <td>0</td>\n",
       "      <td>0</td>\n",
       "      <td>0</td>\n",
       "      <td>0</td>\n",
       "      <td>0</td>\n",
       "      <td>0</td>\n",
       "    </tr>\n",
       "    <tr>\n",
       "      <th>1</th>\n",
       "      <td>0</td>\n",
       "      <td>0</td>\n",
       "      <td>0</td>\n",
       "      <td>0</td>\n",
       "      <td>0</td>\n",
       "      <td>0</td>\n",
       "    </tr>\n",
       "    <tr>\n",
       "      <th>2</th>\n",
       "      <td>0</td>\n",
       "      <td>0</td>\n",
       "      <td>0</td>\n",
       "      <td>0</td>\n",
       "      <td>0</td>\n",
       "      <td>0</td>\n",
       "    </tr>\n",
       "    <tr>\n",
       "      <th>3</th>\n",
       "      <td>0</td>\n",
       "      <td>0</td>\n",
       "      <td>0</td>\n",
       "      <td>0</td>\n",
       "      <td>0</td>\n",
       "      <td>0</td>\n",
       "    </tr>\n",
       "    <tr>\n",
       "      <th>4</th>\n",
       "      <td>0</td>\n",
       "      <td>0</td>\n",
       "      <td>0</td>\n",
       "      <td>0</td>\n",
       "      <td>0</td>\n",
       "      <td>0</td>\n",
       "    </tr>\n",
       "    <tr>\n",
       "      <th>...</th>\n",
       "      <td>...</td>\n",
       "      <td>...</td>\n",
       "      <td>...</td>\n",
       "      <td>...</td>\n",
       "      <td>...</td>\n",
       "      <td>...</td>\n",
       "    </tr>\n",
       "    <tr>\n",
       "      <th>55404</th>\n",
       "      <td>0</td>\n",
       "      <td>0</td>\n",
       "      <td>0</td>\n",
       "      <td>0</td>\n",
       "      <td>0</td>\n",
       "      <td>0</td>\n",
       "    </tr>\n",
       "    <tr>\n",
       "      <th>55405</th>\n",
       "      <td>0</td>\n",
       "      <td>0</td>\n",
       "      <td>0</td>\n",
       "      <td>0</td>\n",
       "      <td>0</td>\n",
       "      <td>0</td>\n",
       "    </tr>\n",
       "    <tr>\n",
       "      <th>55406</th>\n",
       "      <td>0</td>\n",
       "      <td>0</td>\n",
       "      <td>0</td>\n",
       "      <td>0</td>\n",
       "      <td>0</td>\n",
       "      <td>0</td>\n",
       "    </tr>\n",
       "    <tr>\n",
       "      <th>55408</th>\n",
       "      <td>0</td>\n",
       "      <td>0</td>\n",
       "      <td>0</td>\n",
       "      <td>0</td>\n",
       "      <td>0</td>\n",
       "      <td>0</td>\n",
       "    </tr>\n",
       "    <tr>\n",
       "      <th>55409</th>\n",
       "      <td>0</td>\n",
       "      <td>1</td>\n",
       "      <td>0</td>\n",
       "      <td>0</td>\n",
       "      <td>0</td>\n",
       "      <td>0</td>\n",
       "    </tr>\n",
       "  </tbody>\n",
       "</table>\n",
       "<p>54480 rows × 6 columns</p>\n",
       "</div>"
      ],
      "text/plain": [
       "       cough  fever  sore_throat  shortness_of_breath  head_ache   \n",
       "0          0      0            0                    0          0  \\\n",
       "1          0      0            0                    0          0   \n",
       "2          0      0            0                    0          0   \n",
       "3          0      0            0                    0          0   \n",
       "4          0      0            0                    0          0   \n",
       "...      ...    ...          ...                  ...        ...   \n",
       "55404      0      0            0                    0          0   \n",
       "55405      0      0            0                    0          0   \n",
       "55406      0      0            0                    0          0   \n",
       "55408      0      0            0                    0          0   \n",
       "55409      0      1            0                    0          0   \n",
       "\n",
       "       corona_result  \n",
       "0                  0  \n",
       "1                  0  \n",
       "2                  0  \n",
       "3                  0  \n",
       "4                  0  \n",
       "...              ...  \n",
       "55404              0  \n",
       "55405              0  \n",
       "55406              0  \n",
       "55408              0  \n",
       "55409              0  \n",
       "\n",
       "[54480 rows x 6 columns]"
      ]
     },
     "execution_count": 3,
     "metadata": {},
     "output_type": "execute_result"
    }
   ],
   "source": [
    "# Filter the negative and positive results\n",
    "clean_data = data.query('corona_result == \"negative\" or corona_result == \"positive\"')\n",
    "\n",
    "# Change the negative and positive results into a boolean variable\n",
    "clean_data['corona_result'] = clean_data['corona_result'].apply(lambda result: np.int0(result == \"positive\"))\n",
    "\n",
    "symptoms = ['cough', 'fever', 'sore_throat', 'shortness_of_breath', 'head_ache']\n",
    "\n",
    "# Select only the columns that are relevant\n",
    "clean_data = clean_data[symptoms + ['corona_result']]\n",
    "\n",
    "clean_data"
   ]
  },
  {
   "cell_type": "markdown",
   "metadata": {
    "id": "iOpLLVt_4Vgg"
   },
   "source": [
    "## Split into train and test datasets"
   ]
  },
  {
   "cell_type": "markdown",
   "metadata": {
    "id": "y0RzgP5XNulF"
   },
   "source": [
    "After loading and cleaning the data, we now have to split it into train and test data (ratio 10:1)"
   ]
  },
  {
   "cell_type": "code",
   "execution_count": 4,
   "metadata": {
    "id": "2T78DzTP4NR6"
   },
   "outputs": [
    {
     "data": {
      "text/html": [
       "<div>\n",
       "<style scoped>\n",
       "    .dataframe tbody tr th:only-of-type {\n",
       "        vertical-align: middle;\n",
       "    }\n",
       "\n",
       "    .dataframe tbody tr th {\n",
       "        vertical-align: top;\n",
       "    }\n",
       "\n",
       "    .dataframe thead th {\n",
       "        text-align: right;\n",
       "    }\n",
       "</style>\n",
       "<table border=\"1\" class=\"dataframe\">\n",
       "  <thead>\n",
       "    <tr style=\"text-align: right;\">\n",
       "      <th></th>\n",
       "      <th>cough</th>\n",
       "      <th>fever</th>\n",
       "      <th>sore_throat</th>\n",
       "      <th>shortness_of_breath</th>\n",
       "      <th>head_ache</th>\n",
       "      <th>corona_result</th>\n",
       "    </tr>\n",
       "  </thead>\n",
       "  <tbody>\n",
       "    <tr>\n",
       "      <th>44191</th>\n",
       "      <td>0</td>\n",
       "      <td>0</td>\n",
       "      <td>0</td>\n",
       "      <td>0</td>\n",
       "      <td>0</td>\n",
       "      <td>0</td>\n",
       "    </tr>\n",
       "    <tr>\n",
       "      <th>36288</th>\n",
       "      <td>0</td>\n",
       "      <td>0</td>\n",
       "      <td>0</td>\n",
       "      <td>0</td>\n",
       "      <td>0</td>\n",
       "      <td>0</td>\n",
       "    </tr>\n",
       "    <tr>\n",
       "      <th>15524</th>\n",
       "      <td>0</td>\n",
       "      <td>0</td>\n",
       "      <td>0</td>\n",
       "      <td>0</td>\n",
       "      <td>0</td>\n",
       "      <td>0</td>\n",
       "    </tr>\n",
       "    <tr>\n",
       "      <th>20304</th>\n",
       "      <td>0</td>\n",
       "      <td>1</td>\n",
       "      <td>0</td>\n",
       "      <td>0</td>\n",
       "      <td>0</td>\n",
       "      <td>1</td>\n",
       "    </tr>\n",
       "    <tr>\n",
       "      <th>25367</th>\n",
       "      <td>0</td>\n",
       "      <td>0</td>\n",
       "      <td>0</td>\n",
       "      <td>0</td>\n",
       "      <td>0</td>\n",
       "      <td>0</td>\n",
       "    </tr>\n",
       "  </tbody>\n",
       "</table>\n",
       "</div>"
      ],
      "text/plain": [
       "       cough  fever  sore_throat  shortness_of_breath  head_ache   \n",
       "44191      0      0            0                    0          0  \\\n",
       "36288      0      0            0                    0          0   \n",
       "15524      0      0            0                    0          0   \n",
       "20304      0      1            0                    0          0   \n",
       "25367      0      0            0                    0          0   \n",
       "\n",
       "       corona_result  \n",
       "44191              0  \n",
       "36288              0  \n",
       "15524              0  \n",
       "20304              1  \n",
       "25367              0  "
      ]
     },
     "execution_count": 4,
     "metadata": {},
     "output_type": "execute_result"
    }
   ],
   "source": [
    "from sklearn.model_selection import train_test_split\n",
    "\n",
    "# Split the data into train and test sets\n",
    "train_data, test_data = train_test_split(clean_data, test_size=(1/11), random_state=42, stratify=clean_data['corona_result'])\n",
    "# If ratio is 10:1 then the size of the test_data is 1/11 of the whole dataset\n",
    "# Random state is introduced for reproducibility\n",
    "\n",
    "# Take a look at randomly splitted data\n",
    "train_data.head()"
   ]
  },
  {
   "cell_type": "code",
   "execution_count": 5,
   "metadata": {
    "tags": []
   },
   "outputs": [
    {
     "name": "stdout",
     "output_type": "stream",
     "text": [
      "Size of train_data: 49527\n",
      "Size of test_data:  4953\n",
      "The split ratio has been implemented successfully!\n"
     ]
    }
   ],
   "source": [
    "# Confirm correct split ratio\n",
    "print(f'Size of train_data: {len(train_data)}')\n",
    "print(f'Size of test_data:  {len(test_data)}')\n",
    "print(f'The split ratio has been implemented successfully!')"
   ]
  },
  {
   "cell_type": "markdown",
   "metadata": {
    "id": "xN5cSWMy9dZY"
   },
   "source": [
    "## Compute the probabilities\n",
    "Now using the training data compute the probabilities $p(C)$ and $p(s_i \\mid C)$ from the data."
   ]
  },
  {
   "cell_type": "code",
   "execution_count": 6,
   "metadata": {
    "id": "GQKNwHAm5C_F",
    "tags": []
   },
   "outputs": [],
   "source": [
    "# Prior of covid test\n",
    "p_covid = len(train_data[train_data['corona_result'] == 1]) / len(train_data)\n",
    "\n",
    "# Likelihood of the symptoms given covid = 1\n",
    "p_symptom_covid1 = {}\n",
    "for symptom in symptoms:\n",
    "    p_symptom_covid1[symptom] = len(train_data.query(f'{symptom} == 1 and corona_result == 1')) / len(train_data.query('corona_result == 1'))\n",
    "    \n",
    "# Likelihood of the symptoms given covid = 0\n",
    "p_symptom_covid0 = {}\n",
    "for symptom in symptoms:\n",
    "    p_symptom_covid0[symptom] = len(train_data.query(f'{symptom} == 1 and corona_result == 0')) / len(train_data.query('corona_result == 0'))\n",
    "\n",
    "# Evidence of the symptoms\n",
    "p_symptom = {}\n",
    "for symptom in symptoms:\n",
    "    p_symptom[symptom] = len(train_data.query(f'{symptom} == 1')) / len(train_data)"
   ]
  },
  {
   "cell_type": "code",
   "execution_count": 7,
   "metadata": {
    "tags": []
   },
   "outputs": [
    {
     "name": "stdout",
     "output_type": "stream",
     "text": [
      "Prior of covid test: 0.08217739818684758\n",
      "\n",
      "Likelihood of the symptoms given covid:\n",
      "{'cough': 0.5017199017199018, 'fever': 0.48353808353808353, 'sore_throat': 0.1493857493857494, 'shortness_of_breath': 0.1339066339066339, 'head_ache': 0.22334152334152335}\n",
      "\n",
      "Likelihood of the symptoms given no covid:\n",
      "{'cough': 0.13386277141034383, 'fever': 0.06887828057284906, 'sore_throat': 0.01126339177684405, 'shortness_of_breath': 0.008689530765338672, 'head_ache': 0.01082341553556108}\n",
      "\n",
      "Evidence of the symptoms:\n",
      "{'cough': 0.16409231328366344, 'fever': 0.1029539443132029, 'sore_throat': 0.02261392775657722, 'shortness_of_breath': 0.018979546509984454, 'head_ache': 0.02828760070264704}\n",
      "\n"
     ]
    }
   ],
   "source": [
    "print(f'Prior of covid test: {p_covid}\\n')\n",
    "print(f'Likelihood of the symptoms given covid:\\n{p_symptom_covid1}\\n')\n",
    "print(f'Likelihood of the symptoms given no covid:\\n{p_symptom_covid0}\\n')\n",
    "print(f'Evidence of the symptoms:\\n{p_symptom}\\n')"
   ]
  },
  {
   "cell_type": "code",
   "execution_count": 8,
   "metadata": {
    "tags": []
   },
   "outputs": [],
   "source": [
    "def likelihood_given_covid_state(symptom_set, corona):\n",
    "    \n",
    "    # Initialize list of values\n",
    "    personal_probabilities = []\n",
    "    \n",
    "    # Choose dictionary given state of covid test\n",
    "    if corona == True:\n",
    "        dic = p_symptom_covid1\n",
    "    else:\n",
    "        dic = p_symptom_covid0\n",
    "    \n",
    "    # Store dictionary values in list\n",
    "    probs = list(dic.values())\n",
    "    \n",
    "    # Check\n",
    "    # print(f'Original probabilities:\\n{probs}')\n",
    "    \n",
    "    # Replace probabilities with the given counterprobabilities, if not all symptoms are positive\n",
    "    for value in range(len(symptom_set)):\n",
    "        if symptom_set[value] == 1:\n",
    "            personal_probabilities.append(probs[value])\n",
    "        else:\n",
    "            personal_probabilities.append(1-probs[value])\n",
    "    \n",
    "    # Check\n",
    "    # print(f'Determined probabilities:\\n{personal_probabilities}')\n",
    "    \n",
    "    # Product over the symptom probabilities given covid state\n",
    "    likelihood = np.prod(personal_probabilities)\n",
    "    \n",
    "    return likelihood"
   ]
  },
  {
   "cell_type": "code",
   "execution_count": 9,
   "metadata": {
    "tags": []
   },
   "outputs": [],
   "source": [
    "def posterior_prob(symptom_set):\n",
    "    \n",
    "    # Compute posterior probability for set of symptoms, given corona = 1 !!\n",
    "    Z = p_covid*likelihood_given_covid_state(symptom_set, corona=True) + (1-p_covid)*likelihood_given_covid_state(symptom_set, corona=False)\n",
    "    post = p_covid*likelihood_given_covid_state(symptom_set, corona = True)/Z\n",
    "    \n",
    "    return post"
   ]
  },
  {
   "cell_type": "code",
   "execution_count": 10,
   "metadata": {
    "tags": []
   },
   "outputs": [
    {
     "data": {
      "text/plain": [
       "0.016581131923093177"
      ]
     },
     "execution_count": 10,
     "metadata": {},
     "output_type": "execute_result"
    }
   ],
   "source": [
    "posterior_prob(symptom_set = [0,0,0,0,0])"
   ]
  },
  {
   "cell_type": "markdown",
   "metadata": {
    "id": "I4YD5rexAkmj",
    "tags": []
   },
   "source": [
    "## Compute the posterior for the data\n",
    "Given the probabilites implement the posterior \n",
    "$$ p\\left(C = 1 \\mid \\mathbf{S=s}\\right) = \\frac{p\\left(C = 1\\right)}{Z}\\prod_{j=1}^5 p\\left(S_j=s_j \\mid C = 1\\right),$$\n",
    "where $Z$ is a normalizing factor of the form $Z = \\sum_{i=0}^1 p\\left(C = i\\right)\\prod_{j=1}^5 p\\left(S_j=s_j \\mid C = i\\right)$."
   ]
  },
  {
   "cell_type": "code",
   "execution_count": 11,
   "metadata": {},
   "outputs": [
    {
     "name": "stdout",
     "output_type": "stream",
     "text": [
      "[0.01658113 0.01658113 0.01658113 ... 0.58164154 0.01658113 0.01658113]\n"
     ]
    }
   ],
   "source": [
    "X_train = train_data[symptoms].to_numpy()\n",
    "y_train = train_data['corona_result'].to_numpy()\n",
    "\n",
    "# Assign previously calculated dicts\n",
    "p_s_c1 = p_symptom_covid1\n",
    "p_s_c0 = p_symptom_covid0\n",
    "\n",
    "# Predict individual probabilities by applying posterior function along set of rows\n",
    "p_covid_symptoms_train = np.apply_along_axis(posterior_prob, axis=1, arr=X_train)\n",
    "\n",
    "# Check\n",
    "print(p_covid_symptoms_train)"
   ]
  },
  {
   "cell_type": "code",
   "execution_count": 12,
   "metadata": {
    "tags": []
   },
   "outputs": [
    {
     "name": "stdout",
     "output_type": "stream",
     "text": [
      "All values are between 0 and 1!\n"
     ]
    }
   ],
   "source": [
    "# Check that all values of posterior are between 0 and 1\n",
    "if all(0 <= value <= 1 for value in p_covid_symptoms_train):\n",
    "    print(\"All values are between 0 and 1!\")\n",
    "else:\n",
    "    print(\"Warning: Not all values are between 0 and 1!\")"
   ]
  },
  {
   "cell_type": "markdown",
   "metadata": {
    "id": "EXG2AFwyO3_E"
   },
   "source": [
    "If $P(C=1 \\mid \\mathbf{s}) > 0.5$ we assume that the patient is classified as positive for COVID-19. Get the classifications $y_{pred}$ for testing set $X_{test}$"
   ]
  },
  {
   "cell_type": "code",
   "execution_count": 13,
   "metadata": {
    "id": "KsHJ8Bi3O22Y"
   },
   "outputs": [],
   "source": [
    "X_test = test_data[symptoms].to_numpy()\n",
    "y_test = test_data['corona_result'].to_numpy()\n",
    "\n",
    "# Predict individual probabilities by applying posterior function along set of rows\n",
    "p_covid_symptoms_test = np.apply_along_axis(posterior_prob, axis=1, arr=X_test)\n",
    "\n",
    "# Make predicition based on probability\n",
    "y_pred = np.asarray([1 if val > 0.5 else 0 for val in p_covid_symptoms_test]) # P(C = 1 | s) > 0.5 for X_test"
   ]
  },
  {
   "cell_type": "code",
   "execution_count": 14,
   "metadata": {
    "tags": []
   },
   "outputs": [
    {
     "name": "stdout",
     "output_type": "stream",
     "text": [
      "Predicted share of infected people (test): 0.09388249545729861\n",
      "Actual share of infected people (test): 0.08217242075509792\n"
     ]
    }
   ],
   "source": [
    "# Check mean of predictions (predicted share of covid infected people)\n",
    "\n",
    "# Compute share of positively tested people in test set\n",
    "actual_share = len(test_data[test_data['corona_result'] == 1]) / len(test_data)\n",
    "\n",
    "# Compare predicted to actual share\n",
    "print(f'Predicted share of infected people (test): {np.mean(y_pred)}')\n",
    "print(f'Actual share of infected people (test): {actual_share}')"
   ]
  },
  {
   "cell_type": "markdown",
   "metadata": {
    "id": "l4MM__yyI3Ij"
   },
   "source": [
    "## Evaluate the accuracy\n",
    "Verify the accuracy of this classifier on the test data.\n",
    "\n",
    "\\begin{equation}\n",
    "ACC = \\frac{\\sum_{i=0}^N \\mathbb{I}[y_{pred}^{(i)} = y_{test}^{(i)}]}{|y_{test}|},\n",
    "\\end{equation}\n",
    "$\\mathbb{I}[true] = 1$ and $\\mathbb{I}[false] = 0$."
   ]
  },
  {
   "cell_type": "code",
   "execution_count": 15,
   "metadata": {
    "id": "-E7lAsCMK2X7"
   },
   "outputs": [
    {
     "name": "stdout",
     "output_type": "stream",
     "text": [
      "0.9026852412679184\n"
     ]
    }
   ],
   "source": [
    "def accuracy(pred,test):\n",
    "    correct = 0\n",
    "    for i in range(len(pred)):\n",
    "        if pred[i] == test[i]:\n",
    "            correct +=1\n",
    "    return correct/len(test)\n",
    "\n",
    "\n",
    "acc = accuracy(y_pred,y_test)\n",
    "print(acc)"
   ]
  },
  {
   "cell_type": "code",
   "execution_count": 16,
   "metadata": {
    "tags": []
   },
   "outputs": [
    {
     "data": {
      "text/plain": [
       "<sklearn.metrics._plot.confusion_matrix.ConfusionMatrixDisplay at 0x7f6c035e4310>"
      ]
     },
     "execution_count": 16,
     "metadata": {},
     "output_type": "execute_result"
    },
    {
     "data": {
      "image/png": "[encoded data removed]",
      "text/plain": [
       "<Figure size 640x480 with 2 Axes>"
      ]
     },
     "metadata": {},
     "output_type": "display_data"
    }
   ],
   "source": [
    "from sklearn.metrics import confusion_matrix, ConfusionMatrixDisplay\n",
    "\n",
    "cm =confusion_matrix(y_test, y_pred)\n",
    "disp = ConfusionMatrixDisplay(confusion_matrix=cm)\n",
    "disp.plot()"
   ]
  },
  {
   "cell_type": "code",
   "execution_count": 17,
   "metadata": {
    "tags": []
   },
   "outputs": [
    {
     "name": "stdout",
     "output_type": "stream",
     "text": [
      "0.9178275792449021\n"
     ]
    },
    {
     "data": {
      "image/png": "[encoded data removed]",
      "text/plain": [
       "<Figure size 640x480 with 2 Axes>"
      ]
     },
     "metadata": {},
     "output_type": "display_data"
    }
   ],
   "source": [
    "# Evaluate prediction, if we always predict covid_test = 0\n",
    "\n",
    "# Define prediction list will all 0\n",
    "y_pred_0 = np.zeros(len(y_pred))\n",
    "\n",
    "cm =confusion_matrix(y_test, y_pred_0)\n",
    "disp = ConfusionMatrixDisplay(confusion_matrix=cm)\n",
    "disp.plot()\n",
    "\n",
    "acc = accuracy(y_pred_0,y_test)\n",
    "print(acc)"
   ]
  },
  {
   "cell_type": "markdown",
   "metadata": {
    "id": "xd6AM4uPNbEv"
   },
   "source": [
    "#### Questions\n",
    "- What do you observe when evaluating the classifier?\n",
    "- How well does this classifier perform and why?\n",
    "- What could you do to improve the classifier?"
   ]
  },
  {
   "cell_type": "markdown",
   "metadata": {
    "id": "RmSF6z-LNnoG"
   },
   "source": [
    "Your Answers:"
   ]
  },
  {
   "cell_type": "markdown",
   "metadata": {
    "id": "zNV5tBRkNy4R"
   },
   "source": [
    "# Answers\n",
    "\n",
    "1. What do you observe when evaluating the classifier?\n",
    "We observe that the classifier has a relatively high accuracy of roughly 90%, which is better than coinflipping or guessing randomly (approximately 50% accuracy). The confusion matrix displays a high number of true-negative predictions, while all other values are roughly around 200. \n",
    "\n",
    "2. How well does this classifier perform and why?\n",
    "The classifier performs quite badly, since we would obtain a higher accuracy, if we simply predicted corona_test = 0 all the time. This would lead to an increase of accuracy of around 1.5%-points. We can also see that if the the observed person is positive, the prediction of our model is almost 50/50 and predicts 0 52% of the time and predicts 1 48% of the time. Thereofor, we can say that our classifier is rather good in predicting the test outcome, if the test is actually negative. On the other hand, the predictions are very bad if the test is actually positive.\n",
    "\n",
    "This problem could occur, due to the fact that a large share of the data contains negative test results, therefore we have a very imbalanced dataset. \n",
    "\n",
    "3. What could you do to improve the classifier?\n"
   ]
  }
 ],
 "metadata": {
  "colab": {
   "collapsed_sections": [],
   "name": "Covid_classifier_Exercise (1).ipynb",
   "provenance": []
  },
  "kernelspec": {
   "display_name": "Python 3 (ipykernel)",
   "language": "python",
   "name": "python3"
  },
  "language_info": {
   "codemirror_mode": {
    "name": "ipython",
    "version": 3
   },
   "file_extension": ".py",
   "mimetype": "text/x-python",
   "name": "python",
   "nbconvert_exporter": "python",
   "pygments_lexer": "ipython3",
   "version": "3.10.10"
  }
 },
 "nbformat": 4,
 "nbformat_minor": 4
}
