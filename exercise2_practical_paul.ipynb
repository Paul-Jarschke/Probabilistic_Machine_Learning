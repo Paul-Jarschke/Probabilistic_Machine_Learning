{
 "cells": [
  {
   "cell_type": "code",
   "execution_count": 1,
   "metadata": {
    "id": "x47NDE2yzqOA"
   },
   "outputs": [],
   "source": [
    "import numpy as np\n",
    "import pandas as pd\n",
    "pd.options.mode.chained_assignment = None"
   ]
  },
  {
   "cell_type": "markdown",
   "metadata": {
    "id": "SunS-ABCzwqs"
   },
   "source": [
    "# Bayesian COVID-19 Classifier\n",
    "In this task you will develop a simple COVID-19 Classifier based on Bayesian Networks.\n",
    "For this, you should fill in the dots."
   ]
  },
  {
   "cell_type": "markdown",
   "metadata": {
    "id": "mtjtZFU90JW3"
   },
   "source": [
    "## Load Data\n",
    "Here we will use a fragment of the dataset, which has been published alongside the paper [\"Machine learning-based prediction of COVID-19 diagnosis based on symptoms\" Yazeed Zoabi, Shira Deri-Rozov & Noam Shomron](https://www.nature.com/articles/s41746-020-00372-6).\n",
    "\n",
    "It is a dataset with various symptoms and the associated COVID-19 test results.\n",
    "\n",
    "First you need to load in the data from the `covid_symptoms_data.csv` supplied along with the exercise.\n",
    "\n"
   ]
  },
  {
   "cell_type": "code",
   "execution_count": 2,
   "metadata": {
    "id": "har6IHUF0Ivb"
   },
   "outputs": [],
   "source": [
    "data = pd.read_csv('./covid_symptoms_data.csv')"
   ]
  },
  {
   "cell_type": "markdown",
   "metadata": {
    "id": "QUQbVZj51PN6"
   },
   "source": [
    "There are 5 different syptoms considered in this dataset: `cough`, `fever`, `sore_throat`,\t`shortness_of_breath`, `head_ache`. If the value is 1 then the symptom is present if 0 it is not. The `corona_result` column provides the result of the COVID-19 test. It can be either \"*negative*\", \"*positive*\" or \"*other*\". Here we are only interested in the \"*negative*\" and \"*positive*\" outcomes.\n",
    "Let's clean up the dataset to only contain data that is relevant to our classification task."
   ]
  },
  {
   "cell_type": "code",
   "execution_count": 3,
   "metadata": {
    "colab": {
     "base_uri": "https://localhost:8080/",
     "height": 204
    },
    "id": "Ir-Wda_w2IN5",
    "outputId": "b87550a6-7007-4990-f732-4152e5a6162e"
   },
   "outputs": [
    {
     "data": {
      "text/html": [
       "<div>\n",
       "<style scoped>\n",
       "    .dataframe tbody tr th:only-of-type {\n",
       "        vertical-align: middle;\n",
       "    }\n",
       "\n",
       "    .dataframe tbody tr th {\n",
       "        vertical-align: top;\n",
       "    }\n",
       "\n",
       "    .dataframe thead th {\n",
       "        text-align: right;\n",
       "    }\n",
       "</style>\n",
       "<table border=\"1\" class=\"dataframe\">\n",
       "  <thead>\n",
       "    <tr style=\"text-align: right;\">\n",
       "      <th></th>\n",
       "      <th>cough</th>\n",
       "      <th>fever</th>\n",
       "      <th>sore_throat</th>\n",
       "      <th>shortness_of_breath</th>\n",
       "      <th>head_ache</th>\n",
       "      <th>corona_result</th>\n",
       "    </tr>\n",
       "  </thead>\n",
       "  <tbody>\n",
       "    <tr>\n",
       "      <th>0</th>\n",
       "      <td>0</td>\n",
       "      <td>0</td>\n",
       "      <td>0</td>\n",
       "      <td>0</td>\n",
       "      <td>0</td>\n",
       "      <td>0</td>\n",
       "    </tr>\n",
       "    <tr>\n",
       "      <th>1</th>\n",
       "      <td>0</td>\n",
       "      <td>0</td>\n",
       "      <td>0</td>\n",
       "      <td>0</td>\n",
       "      <td>0</td>\n",
       "      <td>0</td>\n",
       "    </tr>\n",
       "    <tr>\n",
       "      <th>2</th>\n",
       "      <td>0</td>\n",
       "      <td>0</td>\n",
       "      <td>0</td>\n",
       "      <td>0</td>\n",
       "      <td>0</td>\n",
       "      <td>0</td>\n",
       "    </tr>\n",
       "    <tr>\n",
       "      <th>3</th>\n",
       "      <td>0</td>\n",
       "      <td>0</td>\n",
       "      <td>0</td>\n",
       "      <td>0</td>\n",
       "      <td>0</td>\n",
       "      <td>0</td>\n",
       "    </tr>\n",
       "    <tr>\n",
       "      <th>4</th>\n",
       "      <td>0</td>\n",
       "      <td>0</td>\n",
       "      <td>0</td>\n",
       "      <td>0</td>\n",
       "      <td>0</td>\n",
       "      <td>0</td>\n",
       "    </tr>\n",
       "    <tr>\n",
       "      <th>...</th>\n",
       "      <td>...</td>\n",
       "      <td>...</td>\n",
       "      <td>...</td>\n",
       "      <td>...</td>\n",
       "      <td>...</td>\n",
       "      <td>...</td>\n",
       "    </tr>\n",
       "    <tr>\n",
       "      <th>55404</th>\n",
       "      <td>0</td>\n",
       "      <td>0</td>\n",
       "      <td>0</td>\n",
       "      <td>0</td>\n",
       "      <td>0</td>\n",
       "      <td>0</td>\n",
       "    </tr>\n",
       "    <tr>\n",
       "      <th>55405</th>\n",
       "      <td>0</td>\n",
       "      <td>0</td>\n",
       "      <td>0</td>\n",
       "      <td>0</td>\n",
       "      <td>0</td>\n",
       "      <td>0</td>\n",
       "    </tr>\n",
       "    <tr>\n",
       "      <th>55406</th>\n",
       "      <td>0</td>\n",
       "      <td>0</td>\n",
       "      <td>0</td>\n",
       "      <td>0</td>\n",
       "      <td>0</td>\n",
       "      <td>0</td>\n",
       "    </tr>\n",
       "    <tr>\n",
       "      <th>55408</th>\n",
       "      <td>0</td>\n",
       "      <td>0</td>\n",
       "      <td>0</td>\n",
       "      <td>0</td>\n",
       "      <td>0</td>\n",
       "      <td>0</td>\n",
       "    </tr>\n",
       "    <tr>\n",
       "      <th>55409</th>\n",
       "      <td>0</td>\n",
       "      <td>1</td>\n",
       "      <td>0</td>\n",
       "      <td>0</td>\n",
       "      <td>0</td>\n",
       "      <td>0</td>\n",
       "    </tr>\n",
       "  </tbody>\n",
       "</table>\n",
       "<p>54480 rows × 6 columns</p>\n",
       "</div>"
      ],
      "text/plain": [
       "       cough  fever  sore_throat  shortness_of_breath  head_ache   \n",
       "0          0      0            0                    0          0  \\\n",
       "1          0      0            0                    0          0   \n",
       "2          0      0            0                    0          0   \n",
       "3          0      0            0                    0          0   \n",
       "4          0      0            0                    0          0   \n",
       "...      ...    ...          ...                  ...        ...   \n",
       "55404      0      0            0                    0          0   \n",
       "55405      0      0            0                    0          0   \n",
       "55406      0      0            0                    0          0   \n",
       "55408      0      0            0                    0          0   \n",
       "55409      0      1            0                    0          0   \n",
       "\n",
       "       corona_result  \n",
       "0                  0  \n",
       "1                  0  \n",
       "2                  0  \n",
       "3                  0  \n",
       "4                  0  \n",
       "...              ...  \n",
       "55404              0  \n",
       "55405              0  \n",
       "55406              0  \n",
       "55408              0  \n",
       "55409              0  \n",
       "\n",
       "[54480 rows x 6 columns]"
      ]
     },
     "execution_count": 3,
     "metadata": {},
     "output_type": "execute_result"
    }
   ],
   "source": [
    "# Filter the negative and positive results\n",
    "clean_data = data.query('corona_result == \"negative\" or corona_result == \"positive\"')\n",
    "\n",
    "# Change the negative and positive results into a boolean variable\n",
    "clean_data['corona_result'] = clean_data['corona_result'].apply(lambda result: np.int0(result == \"positive\"))\n",
    "\n",
    "symptoms = ['cough', 'fever', 'sore_throat', 'shortness_of_breath', 'head_ache']\n",
    "\n",
    "# Select only the columns that are relevant\n",
    "clean_data = clean_data[symptoms + ['corona_result']]\n",
    "\n",
    "clean_data"
   ]
  },
  {
   "cell_type": "markdown",
   "metadata": {
    "id": "iOpLLVt_4Vgg"
   },
   "source": [
    "## Split into train and test datasets"
   ]
  },
  {
   "cell_type": "markdown",
   "metadata": {
    "id": "y0RzgP5XNulF"
   },
   "source": [
    "After loading and cleaning the data, we now have to split it into train and test data (ratio 10:1)"
   ]
  },
  {
   "cell_type": "code",
   "execution_count": 14,
   "metadata": {
    "id": "2T78DzTP4NR6"
   },
   "outputs": [
    {
     "data": {
      "text/html": [
       "<div>\n",
       "<style scoped>\n",
       "    .dataframe tbody tr th:only-of-type {\n",
       "        vertical-align: middle;\n",
       "    }\n",
       "\n",
       "    .dataframe tbody tr th {\n",
       "        vertical-align: top;\n",
       "    }\n",
       "\n",
       "    .dataframe thead th {\n",
       "        text-align: right;\n",
       "    }\n",
       "</style>\n",
       "<table border=\"1\" class=\"dataframe\">\n",
       "  <thead>\n",
       "    <tr style=\"text-align: right;\">\n",
       "      <th></th>\n",
       "      <th>cough</th>\n",
       "      <th>fever</th>\n",
       "      <th>sore_throat</th>\n",
       "      <th>shortness_of_breath</th>\n",
       "      <th>head_ache</th>\n",
       "      <th>corona_result</th>\n",
       "    </tr>\n",
       "  </thead>\n",
       "  <tbody>\n",
       "    <tr>\n",
       "      <th>4798</th>\n",
       "      <td>0</td>\n",
       "      <td>1</td>\n",
       "      <td>0</td>\n",
       "      <td>1</td>\n",
       "      <td>0</td>\n",
       "      <td>0</td>\n",
       "    </tr>\n",
       "    <tr>\n",
       "      <th>46852</th>\n",
       "      <td>0</td>\n",
       "      <td>0</td>\n",
       "      <td>0</td>\n",
       "      <td>0</td>\n",
       "      <td>0</td>\n",
       "      <td>0</td>\n",
       "    </tr>\n",
       "    <tr>\n",
       "      <th>32768</th>\n",
       "      <td>1</td>\n",
       "      <td>1</td>\n",
       "      <td>0</td>\n",
       "      <td>0</td>\n",
       "      <td>0</td>\n",
       "      <td>0</td>\n",
       "    </tr>\n",
       "    <tr>\n",
       "      <th>41810</th>\n",
       "      <td>1</td>\n",
       "      <td>0</td>\n",
       "      <td>0</td>\n",
       "      <td>0</td>\n",
       "      <td>0</td>\n",
       "      <td>0</td>\n",
       "    </tr>\n",
       "    <tr>\n",
       "      <th>52005</th>\n",
       "      <td>0</td>\n",
       "      <td>0</td>\n",
       "      <td>0</td>\n",
       "      <td>0</td>\n",
       "      <td>0</td>\n",
       "      <td>0</td>\n",
       "    </tr>\n",
       "  </tbody>\n",
       "</table>\n",
       "</div>"
      ],
      "text/plain": [
       "       cough  fever  sore_throat  shortness_of_breath  head_ache   \n",
       "4798       0      1            0                    1          0  \\\n",
       "46852      0      0            0                    0          0   \n",
       "32768      1      1            0                    0          0   \n",
       "41810      1      0            0                    0          0   \n",
       "52005      0      0            0                    0          0   \n",
       "\n",
       "       corona_result  \n",
       "4798               0  \n",
       "46852              0  \n",
       "32768              0  \n",
       "41810              0  \n",
       "52005              0  "
      ]
     },
     "execution_count": 14,
     "metadata": {},
     "output_type": "execute_result"
    }
   ],
   "source": [
    "from sklearn.model_selection import train_test_split\n",
    "\n",
    "# Split the data into train and test sets\n",
    "train_data, test_data = train_test_split(clean_data, test_size=(1/11), random_state=42)\n",
    "# If ratio is 10:1 then the size of the test_data is 1/11 of the whole dataset\n",
    "# Random state is introduced for reproducibility\n",
    "\n",
    "# Take a look at randomly splitted data\n",
    "train_data.head()"
   ]
  },
  {
   "cell_type": "code",
   "execution_count": 22,
   "metadata": {
    "tags": []
   },
   "outputs": [
    {
     "name": "stdout",
     "output_type": "stream",
     "text": [
      "Size of train_data: 49527\n",
      "Size of test_data:  4953\n",
      "The split ratio has been implemented successfully!\n"
     ]
    }
   ],
   "source": [
    "# Confirm correct split ratio\n",
    "print(f'Size of train_data: {len(train_data)}')\n",
    "print(f'Size of test_data:  {len(test_data)}')\n",
    "print(f'The split ratio has been implemented successfully!')"
   ]
  },
  {
   "cell_type": "markdown",
   "metadata": {
    "id": "xN5cSWMy9dZY"
   },
   "source": [
    "## Compute the probabilities\n",
    "Now using the training data compute the probabilities $p(C)$ and $p(s_i \\mid C)$ from the data."
   ]
  },
  {
   "cell_type": "code",
   "execution_count": 23,
   "metadata": {
    "id": "GQKNwHAm5C_F"
   },
   "outputs": [],
   "source": [
    "# Prior of covid test\n",
    "p_covid = len(train_data[train_data['corona_result'] == 1]) / len(train_data)\n",
    "\n",
    "# Likelihood of the symptoms given covid\n",
    "p_symptom_covid = {}\n",
    "for symptom in symptoms:\n",
    "    p_symptom_covid[symptom] = len(train_data.query(f'{symptom} == 1 and corona_result == 1')) / len(train_data.query('corona_result == 1'))\n",
    "\n",
    "# Evidence of the symptoms\n",
    "p_symptom = {}\n",
    "for symptom in symptoms:\n",
    "    p_symptom[symptom] = len(train_data.query(f'{symptom} == 1')) / len(train_data)"
   ]
  },
  {
   "cell_type": "code",
   "execution_count": 29,
   "metadata": {
    "tags": []
   },
   "outputs": [
    {
     "name": "stdout",
     "output_type": "stream",
     "text": [
      "Prior of covid test: 0.08205625214529448\n",
      "\n",
      "Likelihood of the symptoms given covid:\n",
      " {'cough': 0.5014763779527559, 'fever': 0.48302165354330706, 'sore_throat': 0.14739173228346455, 'shortness_of_breath': 0.13410433070866143, 'head_ache': 0.2217027559055118}\n",
      "\n",
      "Evidence of the symptoms:\n",
      "{'cough': 0.16380963918670624, 'fever': 0.10208573101540575, 'sore_throat': 0.022371635673471037, 'shortness_of_breath': 0.019100692551537544, 'head_ache': 0.02798473559876431}\n",
      "\n"
     ]
    }
   ],
   "source": [
    "print(f'Prior of covid test: {p_covid}\\n')\n",
    "print(f'Likelihood of the symptoms given covid:\\n {p_symptom_covid}\\n')\n",
    "print(f'Evidence of the symptoms:\\n{p_symptom}\\n')"
   ]
  },
  {
   "cell_type": "markdown",
   "metadata": {
    "id": "I4YD5rexAkmj"
   },
   "source": [
    "## Compute the posterior for the data\n",
    "Given the probabilites implement the posterior \n",
    "$$ p\\left(C = 1 \\mid \\mathbf{S=s}\\right) = \\frac{p\\left(C = 1\\right)}{Z}\\prod_{j=1}^5 p\\left(S_j=s_j \\mid C = 1\\right),$$\n",
    "where $Z$ is a normalizing factor of the form $Z = \\sum_{i=0}^1 p\\left(C = i\\right)\\prod_{j=1}^5 p\\left(S_j=s_j \\mid C = i\\right)$."
   ]
  },
  {
   "cell_type": "code",
   "execution_count": 33,
   "metadata": {
    "id": "agLGfazs7GpW"
   },
   "outputs": [],
   "source": [
    "X_train = train_data[symptoms].to_numpy()\n",
    "y_train = train_data['corona_result'].to_numpy()\n",
    "\n",
    "# Given probabilities\n",
    "p_covid = len(train_data[train_data['corona_result'] == 1]) / len(train_data)  # Prior of COVID test\n",
    "p_s_c1 = p_symptom_covid  # Likelihood of symptoms given COVID\n",
    "p_s_c0 = {symptom: 1 - p for symptom, p in p_symptom_covid.items()}  # Probability of symptom given COVID is false (complement)\n",
    "\n",
    "# Calculate the normalizing factor Z\n",
    "Z = sum(p_covid * np.prod([p_s_c1[symptom] if symptom_value == 1 else p_s_c0[symptom] for symptom, symptom_value in s.items()]) for _, s in train_data[symptoms].iterrows())\n",
    "\n",
    "# Calculate the posterior probability of COVID given symptoms\n",
    "p_covid_symptoms = {}\n",
    "for _, s in train_data[symptoms].iterrows():\n",
    "    numerator = p_covid * np.prod([p_s_c1[symptom] if symptom_value == 1 else p_s_c0[symptom] for symptom, symptom_value in s.items()])\n",
    "    p_covid_symptoms[tuple(s)] = numerator / Z"
   ]
  },
  {
   "cell_type": "code",
   "execution_count": 36,
   "metadata": {
    "tags": []
   },
   "outputs": [
    {
     "name": "stdout",
     "output_type": "stream",
     "text": [
      "Probability of symptom given COVID is True:\n",
      "{'cough': 0.5014763779527559, 'fever': 0.48302165354330706, 'sore_throat': 0.14739173228346455, 'shortness_of_breath': 0.13410433070866143, 'head_ache': 0.2217027559055118}\n",
      "\n",
      "Probability of symptom given COVID is false (complement):\n",
      "{'cough': 0.4985236220472441, 'fever': 0.5169783464566929, 'sore_throat': 0.8526082677165354, 'shortness_of_breath': 0.8658956692913385, 'head_ache': 0.7782972440944882}\n",
      "\n",
      "Posterior: {(0, 1, 0, 1, 0): 3.0746024272760453e-06, (0, 0, 0, 0, 0): 2.12479718865702e-05, (1, 1, 0, 0, 0): 1.9969926613609327e-05, (1, 0, 0, 0, 0): 2.1373823645029645e-05, (1, 0, 0, 0, 1): 6.088465097746352e-06, (1, 1, 0, 0, 1): 5.688556395466963e-06, (0, 0, 0, 0, 1): 6.052615450458347e-06, (1, 0, 1, 0, 0): 3.69492651179589e-06, (1, 1, 1, 0, 0): 3.452232623824526e-06, (1, 1, 1, 0, 1): 9.833896914530186e-07, (0, 0, 1, 1, 1): 1.6204808420988842e-07, (1, 0, 0, 1, 1): 9.429421648967782e-07, (0, 1, 0, 0, 0): 1.9852341177219084e-05, (1, 0, 0, 1, 0): 3.310239808622097e-06, (0, 0, 1, 0, 1): 1.0463251529075179e-06, (1, 0, 1, 0, 1): 1.0525225378210866e-06, (0, 1, 0, 0, 1): 5.655061460851848e-06, (0, 1, 1, 0, 0): 3.4319054444889552e-06, (0, 1, 0, 1, 1): 8.758194078329803e-07, (1, 1, 0, 1, 0): 3.0928133004879463e-06, (0, 0, 0, 1, 0): 3.290748700818631e-06, (0, 0, 0, 1, 1): 9.373900029837452e-07, (0, 0, 1, 1, 0): 5.688769038356017e-07, (0, 0, 1, 0, 0): 3.6731703203623524e-06, (1, 1, 1, 1, 1): 1.5230104627504837e-07, (1, 1, 0, 1, 1): 8.810068870501547e-07, (0, 1, 1, 0, 1): 9.775993694228735e-07, (1, 0, 1, 1, 1): 1.6300789517263208e-07, (1, 0, 1, 1, 0): 5.722463622985962e-07, (1, 1, 1, 1, 0): 5.346594998534716e-07, (0, 1, 1, 1, 0): 5.315113575579656e-07, (0, 1, 1, 1, 1): 1.5140427858353685e-07}\n"
     ]
    }
   ],
   "source": [
    "print(f'Probability of symptom given COVID is True:\\n{p_s_c1}\\n')\n",
    "print(f'Probability of symptom given COVID is false (complement):\\n{p_s_c0}\\n')\n",
    "print(f'Posterior: {p_covid_symptoms}')"
   ]
  },
  {
   "cell_type": "code",
   "execution_count": 58,
   "metadata": {
    "tags": []
   },
   "outputs": [
    {
     "name": "stdout",
     "output_type": "stream",
     "text": [
      "All values are between 0 and 1!\n"
     ]
    },
    {
     "data": {
      "text/plain": [
       "[1.5140427858353685e-07,\n",
       " 1.5230104627504837e-07,\n",
       " 1.6204808420988842e-07,\n",
       " 1.6300789517263208e-07,\n",
       " 5.315113575579656e-07,\n",
       " 5.346594998534716e-07,\n",
       " 5.688769038356017e-07,\n",
       " 5.722463622985962e-07,\n",
       " 8.758194078329803e-07,\n",
       " 8.810068870501547e-07,\n",
       " 9.373900029837452e-07,\n",
       " 9.429421648967782e-07,\n",
       " 9.775993694228735e-07,\n",
       " 9.833896914530186e-07,\n",
       " 1.0463251529075179e-06,\n",
       " 1.0525225378210866e-06,\n",
       " 3.0746024272760453e-06,\n",
       " 3.0928133004879463e-06,\n",
       " 3.290748700818631e-06,\n",
       " 3.310239808622097e-06,\n",
       " 3.4319054444889552e-06,\n",
       " 3.452232623824526e-06,\n",
       " 3.6731703203623524e-06,\n",
       " 3.69492651179589e-06,\n",
       " 5.655061460851848e-06,\n",
       " 5.688556395466963e-06,\n",
       " 6.052615450458347e-06,\n",
       " 6.088465097746352e-06,\n",
       " 1.9852341177219084e-05,\n",
       " 1.9969926613609327e-05,\n",
       " 2.12479718865702e-05,\n",
       " 2.1373823645029645e-05]"
      ]
     },
     "execution_count": 58,
     "metadata": {},
     "output_type": "execute_result"
    }
   ],
   "source": [
    "# Check that all values of posterior are between 0 and 1\n",
    "posterior_values = p_covid_symptoms.values()\n",
    "if all(0 <= value <= 1 for value in posterior_values):\n",
    "    print(\"All values are between 0 and 1!\")\n",
    "else:\n",
    "    print(\"Warning: Not all values are between 0 and 1!\")\n",
    "\n",
    "sorted_probabilities = sorted(posterior_values)\n",
    "sorted_probabilities"
   ]
  },
  {
   "cell_type": "markdown",
   "metadata": {
    "id": "EXG2AFwyO3_E"
   },
   "source": [
    "If $P(C=1 \\mid \\mathbf{s}) > 0.5$ we assume that the patient is classified as positive for COVID-19. Get the classifications $y_{pred}$ for testing set $X_{test}$"
   ]
  },
  {
   "cell_type": "code",
   "execution_count": null,
   "metadata": {
    "id": "KsHJ8Bi3O22Y"
   },
   "outputs": [],
   "source": [
    "X_test = test_data[symptoms].to_numpy()\n",
    "y_test = test_data['corona_result'].to_numpy()\n",
    "\n",
    "y_pred = ... # P(C = 1 | s) > 0.5 for X_test"
   ]
  },
  {
   "cell_type": "markdown",
   "metadata": {
    "id": "l4MM__yyI3Ij"
   },
   "source": [
    "## Evaluate the accuracy\n",
    "Verify the accuracy of this classifier on the test data.\n",
    "\n",
    "\\begin{equation}\n",
    "ACC = \\frac{\\sum_{i=0}^N \\mathbb{I}[y_{pred}^{(i)} = y_{test}^{(i)}]}{|y_{test}|},\n",
    "\\end{equation}\n",
    "$\\mathbb{I}[true] = 1$ and $\\mathbb{I}[false] = 0$."
   ]
  },
  {
   "cell_type": "code",
   "execution_count": null,
   "metadata": {
    "id": "-E7lAsCMK2X7"
   },
   "outputs": [],
   "source": [
    "acc = ..."
   ]
  },
  {
   "cell_type": "markdown",
   "metadata": {
    "id": "xd6AM4uPNbEv"
   },
   "source": [
    "#### Questions\n",
    "- What do you observe when evaluating the classifier?\n",
    "- How well does this classifier perform and why?\n",
    "- What could you do to improve the classifier?"
   ]
  },
  {
   "cell_type": "markdown",
   "metadata": {
    "id": "RmSF6z-LNnoG"
   },
   "source": [
    "Your Answers:"
   ]
  },
  {
   "cell_type": "code",
   "execution_count": null,
   "metadata": {
    "id": "zNV5tBRkNy4R"
   },
   "outputs": [],
   "source": []
  }
 ],
 "metadata": {
  "colab": {
   "collapsed_sections": [],
   "name": "Covid_classifier_Exercise (1).ipynb",
   "provenance": []
  },
  "kernelspec": {
   "display_name": "Python 3 (ipykernel)",
   "language": "python",
   "name": "python3"
  },
  "language_info": {
   "codemirror_mode": {
    "name": "ipython",
    "version": 3
   },
   "file_extension": ".py",
   "mimetype": "text/x-python",
   "name": "python",
   "nbconvert_exporter": "python",
   "pygments_lexer": "ipython3",
   "version": "3.10.10"
  }
 },
 "nbformat": 4,
 "nbformat_minor": 4
}
