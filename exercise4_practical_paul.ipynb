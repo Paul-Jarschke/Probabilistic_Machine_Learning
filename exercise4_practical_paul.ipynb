{
 "cells": [
  {
   "cell_type": "code",
   "execution_count": 1,
   "metadata": {},
   "outputs": [],
   "source": [
    "%matplotlib inline  "
   ]
  },
  {
   "cell_type": "code",
   "execution_count": 2,
   "metadata": {},
   "outputs": [],
   "source": [
    "import torch\n",
    "import math\n",
    "from torch import nn\n",
    "from torch.nn import functional as F\n",
    "from torch.distributions import Normal, Laplace\n",
    "import matplotlib.pyplot as plt\n",
    "from torch import optim\n",
    "from tqdm import tqdm\n",
    "\n",
    "import seaborn as sns"
   ]
  },
  {
   "cell_type": "markdown",
   "metadata": {},
   "source": [
    "# Exercise Sheet 3 - Practical: Normalizing Flows"
   ]
  },
  {
   "cell_type": "markdown",
   "metadata": {},
   "source": [
    "Normalizing flows were briefly introduced in lecture 3.\n",
    "They are very powerful models that use the principles of the change-of-variable formular to transform one distribution into another.\n",
    "Here, one distribution could be a very simple distribution and the other could be a much more complex distribution like the distribution of celibrity faces. \n",
    "Although this is a very complex problem, the principles used in normalizing flows are very simple and can be understood from the concepts introduced in the lecture.\n",
    "In this exercise, you will derive and implement a normalizing flow on a much simpler task, but following the same principles that are used in more complex scenarios. "
   ]
  },
  {
   "cell_type": "markdown",
   "metadata": {},
   "source": [
    "For this exercise we are given two distributions. \n",
    "\n",
    "First, a Gaussian distribution, as a simple source distribution with density:\n",
    "$$ p_{\\mathrm{source}}(z)=\\frac{1}{\\sqrt{2\\pi \\sigma^2} } \\exp \\left(-\\frac{1}{2}\\left(\\frac{x - \\mu}{\\sigma}\\right)^2 \\right)  \\ \\ \\text{ with } \\mu=0, \\sigma=1  $$\n",
    "\n",
    "Second, the Laplace distribution, as a more complex target distribution with density:\n",
    "$$ p_{\\mathrm{target}}(x)=\\frac{1}{2b} \\exp\\left(-\\frac{|x-\\mu|}{b}\\right) \\ \\ \\text{ with } \\mu=5, \\sigma=3 $$"
   ]
  },
  {
   "cell_type": "markdown",
   "metadata": {},
   "source": [
    "## (1) Flow with a single affine layer"
   ]
  },
  {
   "cell_type": "markdown",
   "metadata": {},
   "source": [
    "The essential goal of any flow model is to learn a function $f$ that can transform between two distributions.\n",
    "That means we want to find an $f$ such that we can represent $p_\\mathrm{source}$ using only $p_\\mathrm{target}$ and $f$ and vice-versa represent $p_\\mathrm{target}$ using only $p_\\mathrm{source}$ and $f^{-1}$.\n",
    "In practice, $p_\\mathrm{target}$ is often a very complex distribution that we may not know the density of.\n",
    "This could be the distribution of celebrity faces for example. \n",
    "What we do have however is a bunch of samples from that distribution that we can use to learn $f$. \n",
    "\n"
   ]
  },
  {
   "cell_type": "markdown",
   "metadata": {},
   "source": [
    "### [2]: (1.1) The objective function"
   ]
  },
  {
   "cell_type": "markdown",
   "metadata": {},
   "source": [
    "Learning a function in machine learning means generally optimizing its parameters. Here we assume that we have an invertible and differentiable function $f_\\theta$ that is paramerized by a set of parameters $\\theta$.\n",
    "The optimization procedure adapts the function by changing the parameters $\\theta$ to get closer to a defined goal. \n",
    "This goal is generally expressed by the **objective function**. \n",
    "In our case we define the goal as maximizing the log-likelihood (or equivalently minimizing the negative log-likelihood) of our target distribution on samples that come from this distribution.\n",
    "\n",
    "$$ \\mathcal{L} = -\\log p_\\mathrm{target}(x)$$\n",
    "\n",
    "As mentioned above, we assume that we do not know $p_\\mathrm{target}$ but want to use our function $f_\\theta$ and the source distribution $p_\\mathrm{source}$ instead.\n",
    "\n",
    "We have a continuous random variable $Z$ with PDF $p_\\mathrm{source}(z)$ as well as $Z = f(X)$ and $X=f^{-1}(Z)$. Now we want to know $p_\\mathrm{target}(x)$."
   ]
  },
  {
   "cell_type": "markdown",
   "metadata": {},
   "source": [
    "We thus plug it into the formular from slide 51 of the lecture, i.e.\n",
    "\n",
    "$$ p_Y(y)=p_X(v(y)) \\cdot \\left| \\frac{d v(y)}{dy} \\right| $$\n",
    "\n",
    "In our case we have:\n",
    "- $p_Y(y) = p_\\mathrm{target}(x)$\n",
    "- $p_X(x) = p_\\mathrm{source}(z)$\n",
    "- $v(y) = f(x)$\n",
    "\n",
    "Giving us\n",
    "$$ p_\\mathrm{target}(x) = p_\\mathrm{source}(f(x)) \\cdot \\left| \\frac{d f(x)}{dx} \\right| \\\\\n",
    "\\Rightarrow - \\log p_\\mathrm{target}(x) = - \\log p_\\mathrm{source}(f(x)) - \\log \\left| \\frac{d f(x)}{dx} \\right|$$\n"
   ]
  },
  {
   "cell_type": "markdown",
   "metadata": {},
   "source": [
    "In optimization, we want to compute this quantity for multiple inputs at the same time and deal with this by averaging the log-probability over the entire set of inputs.\n",
    "Implement the objective function by completing the following code:"
   ]
  },
  {
   "cell_type": "code",
   "execution_count": 3,
   "metadata": {},
   "outputs": [],
   "source": [
    "def objective(x, flow, avg=False):\n",
    "    z, log_d = flow(x)\n",
    "    log_p_source = Normal(0, 1).log_prob(z).sum(dim=-1)  # log p_source(z)\n",
    "    loss = -log_p_source - log_d\n",
    "\n",
    "    if avg:\n",
    "        return loss.mean()  # Return the mean of the loss across the batch\n",
    "    else:\n",
    "        return loss.sum()   # Return the sum of the loss across the batch\n"
   ]
  },
  {
   "cell_type": "markdown",
   "metadata": {},
   "source": [
    "### (1.2) Optimization\n",
    "In order to optimize our function for this objective, we are using a procedure called gradient descent.\n",
    "This allows us to optimize the parameters of a differentiable function by iteratively taking small steps in the direction of the negative gradient.\n",
    "We are using the `pytorch` library here which takes care of most things for us, e.g. it helps us by computing the gradient for us.\n",
    "We implemented a simple optimization loop here that takes care of the rest and performs the optimization for you if you give it an objective function, a flow model and the training data $x$ from $p_\\mathrm{target}$."
   ]
  },
  {
   "cell_type": "code",
   "execution_count": 4,
   "metadata": {},
   "outputs": [],
   "source": [
    "def optimize(x, flow, objective, iterations=2000):\n",
    "    \n",
    "    opt = optim.Adam(flow.parameters(), lr=1e-2)\n",
    "    scheduler = optim.lr_scheduler.StepLR(opt, step_size=500, gamma=0.8)\n",
    "    log_likelihoods = []\n",
    "    \n",
    "    for _ in tqdm(range(iterations)):\n",
    "        opt.zero_grad()\n",
    "        neg_log_likelihood = objective(x, flow)\n",
    "        neg_log_likelihood.backward()\n",
    "        log_likelihoods.append(neg_log_likelihood.detach().numpy())\n",
    "        opt.step()\n",
    "        scheduler.step()\n",
    "    \n",
    "    return log_likelihoods"
   ]
  },
  {
   "cell_type": "markdown",
   "metadata": {},
   "source": [
    "### [3]: (1.3) The Flow Model"
   ]
  },
  {
   "cell_type": "markdown",
   "metadata": {},
   "source": [
    "We have a an objective function and an optimization procedure now. What is still missing is our function $f_\\theta$ (with $\\theta=\\{\\alpha,\\beta\\}$) which we will refer to as `flow`. \n",
    "For our first attempt, we will use a very simple affine function:\n",
    "\n",
    "$$ f_\\theta(x) = \\alpha  \\cdot x + \\beta $$ \n",
    "\n",
    "To implement our model, we need the following formulas:"
   ]
  },
  {
   "cell_type": "markdown",
   "metadata": {},
   "source": [
    "\n",
    "$$\n",
    "\\begin{align*}\n",
    "f_\\theta^{-1}(z) &= \\frac{z - \\beta}{\\alpha} \\\\ \n",
    "\\log \\left| \\frac{df_\\theta(x)}{dx} \\right| &= \\log |\\alpha | \\\\ \n",
    "\\log \\left| \\frac{df^{-1}_\\theta(z)}{dz} \\right| &= \\log |\\alpha |\n",
    "\\end{align*}\n",
    "$$"
   ]
  },
  {
   "cell_type": "markdown",
   "metadata": {},
   "source": [
    "In order to use this function as our model, we will implement it as a `Module`-class. \n",
    "We already initialized the parameters $\\alpha,\\beta$ and all that is left is the implementation of the `forward` method. \n",
    "This method is used to compute $f_\\theta(x)$ and $f_\\theta^{-1}(z)$ (when called with `inverse=True`). \n",
    "At the same time `forward` also returns the value $\\log \\left|\\frac{df_\\theta(x)}{dx}\\right|$ added to `log_d` (this sum will become important later when we compose multiple functions). \n",
    "Please fill in the gaps in the code below."
   ]
  },
  {
   "cell_type": "code",
   "execution_count": 5,
   "metadata": {},
   "outputs": [],
   "source": [
    "class Affine(nn.Module):\n",
    "    def __init__(self):\n",
    "        super().__init__()\n",
    "        self.alpha = nn.Parameter(torch.FloatTensor(1).normal_())\n",
    "        self.beta = nn.Parameter(torch.FloatTensor(1).normal_())\n",
    "    \n",
    "    def forward(self, x, log_d=0, inverse=False):\n",
    "        if not inverse:\n",
    "            z = self.alpha * x + self.beta\n",
    "            log_d = log_d + torch.log(torch.abs(self.alpha)) # see formula above that its equal to log(|alpha|)\n",
    "        else:\n",
    "            z = (x - self.beta) / self.alpha\n",
    "            log_d = log_d - torch.log(torch.abs(self.alpha)) # notice the minus here due to inverse function theorem\n",
    "        return z, log_d\n",
    "    \n",
    "    def __repr__(self):\n",
    "        return \"Affine(alpha={alpha:.2f}, beta={beta:.2f})\".format(alpha=self.alpha[0], beta=self.beta[0])"
   ]
  },
  {
   "cell_type": "markdown",
   "metadata": {},
   "source": [
    "### [1]: (1.4) Training \n",
    "Now we can bring all the components together to train our flow model. However, we do not have any training data yet. \n",
    "The good thing about the simple example we are considering here is that we know the PDF for our target distribution and can therefore use this to generate samples that we can use as our training data.\n",
    "Thus, in the following, we ask you to generate the training data, and use this as well as the components we defined above to train our normalizing flow. \n",
    "\n",
    "*Hint:* Torch distirbutions have a useful function called `sample()` that allows you to draw a number of sample from them."
   ]
  },
  {
   "cell_type": "code",
   "execution_count": 6,
   "metadata": {},
   "outputs": [
    {
     "name": "stderr",
     "output_type": "stream",
     "text": [
      "100%|██████████| 2000/2000 [00:01<00:00, 1443.79it/s]\n"
     ]
    },
    {
     "data": {
      "image/png": "[encoded data removed]",
      "text/plain": [
       "<Figure size 640x480 with 1 Axes>"
      ]
     },
     "metadata": {},
     "output_type": "display_data"
    }
   ],
   "source": [
    "flow = Affine() # Initialize the affine flow model\n",
    "\n",
    "def train(flow, train_size=2000):\n",
    "    # Generate training data\n",
    "    p_target = Laplace(5, 3)\n",
    "    x = p_target.sample((train_size,)) \n",
    "\n",
    "    log_likelihood = optimize(x, flow, objective) # Run training\n",
    "\n",
    "    # Plot log_likelihood over training iterations:\n",
    "    with sns.axes_style('ticks'):\n",
    "        plt.plot(log_likelihood)\n",
    "        plt.xlabel(\"Iteration\")\n",
    "        plt.ylabel(\"Loss\")\n",
    "    sns.despine(trim=True)\n",
    "    \n",
    "train(flow)"
   ]
  },
  {
   "cell_type": "markdown",
   "metadata": {},
   "source": [
    "### [2]: (1.5) Evaluation\n",
    "Now that we have trained our first flow model, we want to inspect how well it works. For this purpose, we will now generate new samples from our target distribution $p_\\mathrm{target}$ and compare them to the true samples we used for training."
   ]
  },
  {
   "cell_type": "code",
   "execution_count": 7,
   "metadata": {},
   "outputs": [
    {
     "name": "stderr",
     "output_type": "stream",
     "text": [
      "No artists with labels found to put in legend.  Note that artists whose label start with an underscore are ignored when legend() is called with no argument.\n"
     ]
    },
    {
     "data": {
      "image/png": "[encoded data removed]",
      "text/plain": [
       "<Figure size 600x600 with 1 Axes>"
      ]
     },
     "metadata": {},
     "output_type": "display_data"
    }
   ],
   "source": [
    "def evaluate(flow):\n",
    "    p_source = Normal(0, 1)    \n",
    "    p_target = Laplace(5, 3)\n",
    "    x_true = p_target.sample((2000,1)) # samples to compare to  \n",
    "\n",
    "    # Generate samples from source distribution\n",
    "    z = p_source.sample((2000,1))\n",
    "\n",
    "    # Use our trained model get samples from the target distribution\n",
    "    x_flow, _ = flow.forward(z, inverse = True)\n",
    "    \n",
    "    # Plot histogram of training samples `x` and generated samples `x_flow` to compare the two.\n",
    "    with sns.axes_style('ticks'):\n",
    "        fig, ax = plt.subplots(figsize=(4,4), dpi=150)\n",
    "        ax.hist(x_true.detach().numpy().ravel(), bins=50, alpha=0.5,histtype='step');\n",
    "        ax.hist(x_flow.detach().numpy().ravel(), bins=50, alpha=0.5,histtype='step');\n",
    "        plt.xlabel(\"x\")\n",
    "        plt.ylabel(\"Num Samples\")\n",
    "        plt.legend()\n",
    "    sns.despine(trim=True)\n",
    "    \n",
    "evaluate(flow)"
   ]
  },
  {
   "cell_type": "markdown",
   "metadata": {},
   "source": [
    "Interpret the resulting plot."
   ]
  },
  {
   "cell_type": "markdown",
   "metadata": {},
   "source": [
    "## (2) Flow with composition of mutiple layers"
   ]
  },
  {
   "cell_type": "markdown",
   "metadata": {},
   "source": [
    "### [3]: (2.1) A non-linear layer"
   ]
  },
  {
   "cell_type": "markdown",
   "metadata": {},
   "source": [
    "After trying out our simple flow with a single affine layer above, we are now going to make our model a little more powerful by composing multiple simple functions.\n",
    "For this, we first introduce a new simple function of the form:\n",
    "\n",
    " $$g(x)=\\left\\{\\begin{array}{cc}{x} & {x>0} \\\\ {e^{x}-1} & {x \\leqslant 0}\\end{array}\\right.$$\n",
    " "
   ]
  },
  {
   "cell_type": "markdown",
   "metadata": {},
   "source": [
    "Now, similar to the affine layer we defined above, we now need to derive three components:"
   ]
  },
  {
   "cell_type": "markdown",
   "metadata": {},
   "source": [
    "For the inverse:\n",
    "$$\n",
    "  g^{-1}(z) = \\left\\{\\begin{array}{cl}{z} & {z>0} \\\\ {\\log (z+1)} & {z \\leqslant 0}\\end{array}\\right.\n",
    "$$\n",
    "\n",
    "For the derivative:\n",
    "$$\n",
    "\\frac{d g}{d x}=\\left\\{\\begin{array}{ll}{1} & {x>0} \\\\ {e^{x}} & {x \\leqslant 0}\\end{array}\\right.\n",
    "$$\n",
    "\n",
    "For the derivative of the inverse:\n",
    "$$\n",
    "\\frac{d g^{-1}}{d z}=\\left\\{\\begin{array}{ll}{1} & {z>0} \\\\ {\\frac{1}{z+1}} & {z \\leqslant 0}\\end{array}\\right.\n",
    "$$"
   ]
  },
  {
   "cell_type": "markdown",
   "metadata": {},
   "source": [
    "Implementing this also follows the same pattern as for the affine layer. Fill in the forward function here:"
   ]
  },
  {
   "cell_type": "code",
   "execution_count": 8,
   "metadata": {},
   "outputs": [],
   "source": [
    "class NonLinear(nn.Module):\n",
    "    def __init__(self):\n",
    "        super().__init__()\n",
    "\n",
    "    def forward(self, x, logdet, inverse=False):\n",
    "        if not inverse:\n",
    "            z = torch.where(x > 0, x, torch.exp(x) - 1)\n",
    "            ld = torch.where(x > 0, torch.ones_like(x), torch.exp(x))\n",
    "        else:\n",
    "            z = torch.where(x > 0, x, torch.log(x + 1))\n",
    "            ld = torch.where(x > 0, torch.ones_like(x), 1 / (x + 1))\n",
    "\n",
    "        logdet = logdet + torch.log(torch.abs(ld))\n",
    "        return z, logdet"
   ]
  },
  {
   "cell_type": "markdown",
   "metadata": {},
   "source": [
    "### [2]: (2.2) Stacking multiple layers"
   ]
  },
  {
   "cell_type": "markdown",
   "metadata": {},
   "source": [
    "Now that we introduced a second type of layer, we can build more complex flow networks by stacking the individual layers on top of each other.\n",
    "This means we want to use the following function:\n",
    "$$\n",
    "    g \\circ f_{\\theta_k} \\circ ... \\circ g \\circ f_{\\theta_1} = g(f_{\\theta_k}(...g(f_{\\theta_1}(x))...))\n",
    "$$\n",
    "Looking closely, we can see that this is simply a chained application of change of variables. \n",
    "Thus from the lecture, we can now the generalized objective function for a stacked network. "
   ]
  },
  {
   "cell_type": "markdown",
   "metadata": {},
   "source": [
    "$$\n",
    "\\mathcal{L} = \\log p_\\mathrm{source}(z) + \\sum_{i=1}^{k} \\log \\left| \\frac{df_i}{dz_{i-1}} \\right|\n",
    "$$"
   ]
  },
  {
   "cell_type": "markdown",
   "metadata": {},
   "source": [
    "Now you should realise that the objective function we implemented earlier and the layers we implemented so far can already support the general case of composing multiple layers to a larger flow network. \n",
    "It does so by summing up the log-determinant term as we go through the layers in the forward pass.\n",
    "What remains to do is the execution of the individual layers in the right order. \n",
    "Please implement this in the `forward` method of the following module that encapsulates all layers of our flow."
   ]
  },
  {
   "cell_type": "code",
   "execution_count": 9,
   "metadata": {},
   "outputs": [],
   "source": [
    "class Flow(nn.Module):\n",
    "    def __init__(self, layers=5):\n",
    "        super().__init__()\n",
    "        non_linear = NonLinear()\n",
    "        self.layers = nn.ModuleList([])\n",
    "        for _ in range(layers):\n",
    "            self.layers.append(Affine())\n",
    "            self.layers.append(non_linear)\n",
    "\n",
    "    def forward(self, x, logdet=0, inverse=False):\n",
    "        if not inverse:\n",
    "            for layer in self.layers:\n",
    "                x, logdet = layer(x, logdet)\n",
    "        else:\n",
    "            for layer in reversed(self.layers):\n",
    "                x, logdet = layer(x, logdet, inverse=True)\n",
    "        return x, logdet\n"
   ]
  },
  {
   "cell_type": "markdown",
   "metadata": {},
   "source": [
    "Now we have a more complex flow, let's test it out and evaluate our results:"
   ]
  },
  {
   "cell_type": "code",
   "execution_count": 10,
   "metadata": {},
   "outputs": [
    {
     "name": "stderr",
     "output_type": "stream",
     "text": [
      "100%|██████████| 2000/2000 [00:04<00:00, 416.62it/s]\n",
      "No artists with labels found to put in legend.  Note that artists whose label start with an underscore are ignored when legend() is called with no argument.\n"
     ]
    },
    {
     "data": {
      "image/png": "[encoded data removed]",
      "text/plain": [
       "<Figure size 640x480 with 1 Axes>"
      ]
     },
     "metadata": {},
     "output_type": "display_data"
    },
    {
     "data": {
      "image/png": "[encoded data removed]",
      "text/plain": [
       "<Figure size 600x600 with 1 Axes>"
      ]
     },
     "metadata": {},
     "output_type": "display_data"
    }
   ],
   "source": [
    "flow = Flow(layers=5)\n",
    "train(flow)\n",
    "evaluate(flow)"
   ]
  },
  {
   "cell_type": "markdown",
   "metadata": {},
   "source": [
    "4### [1]: (2.3) Final Evaluation\n",
    "What do you observe? Can you think of another way to verify that your resulting flow network learned the target distribution?"
   ]
  },
  {
   "cell_type": "code",
   "execution_count": null,
   "metadata": {},
   "outputs": [],
   "source": []
  }
 ],
 "metadata": {
  "kernelspec": {
   "display_name": "Python 3 (ipykernel)",
   "language": "python",
   "name": "python3"
  },
  "language_info": {
   "codemirror_mode": {
    "name": "ipython",
    "version": 3
   },
   "file_extension": ".py",
   "mimetype": "text/x-python",
   "name": "python",
   "nbconvert_exporter": "python",
   "pygments_lexer": "ipython3",
   "version": "3.10.10"
  },
  "pycharm": {
   "stem_cell": {
    "cell_type": "raw",
    "metadata": {
     "collapsed": false
    },
    "source": []
   }
  }
 },
 "nbformat": 4,
 "nbformat_minor": 4
}
